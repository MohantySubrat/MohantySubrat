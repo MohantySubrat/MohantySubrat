{
  "nbformat": 4,
  "nbformat_minor": 0,
  "metadata": {
    "colab": {
      "provenance": [],
      "authorship_tag": "ABX9TyN1rVcYLkUS5HiF0oBH/xGM",
      "include_colab_link": true
    },
    "kernelspec": {
      "name": "python3",
      "display_name": "Python 3"
    },
    "language_info": {
      "name": "python"
    }
  },
  "cells": [
    {
      "cell_type": "markdown",
      "metadata": {
        "id": "view-in-github",
        "colab_type": "text"
      },
      "source": [
        "<a href=\"https://colab.research.google.com/github/MohantySubrat/MohantySubrat/blob/main/Password_generator.ipynb\" target=\"_parent\"><img src=\"https://colab.research.google.com/assets/colab-badge.svg\" alt=\"Open In Colab\"/></a>"
      ]
    },
    {
      "cell_type": "code",
      "execution_count": 1,
      "metadata": {
        "id": "iO_K1tjmNGn2"
      },
      "outputs": [],
      "source": [
        "import numpy as np\n",
        "import pandas as pd\n",
        "import random"
      ]
    },
    {
      "cell_type": "code",
      "source": [
        "alphabets=['a','b','c','d','e','f','g','h','i','j','k','l','m','n','o','p','q','r','s','t','u','v','w','x','y','z']\n",
        "symbols = ['$','#','*','_','@']"
      ],
      "metadata": {
        "id": "X48xv3sXNwod"
      },
      "execution_count": 2,
      "outputs": []
    },
    {
      "cell_type": "code",
      "source": [
        "num = np.random.randint(0,10)             #generating a random number\n",
        "symbol = symbols[np.random.randint(0,5)]  #generating a random symbol\n",
        "index1 = np.random.randint(0,27)          #generating random alphabet\n",
        "index2 = np.random.randint(0,27)          #generating random alphabet\n",
        "alpha_part = alpha = (alphabets[index1]) + (alphabets[index2])  #combining alphabets\n",
        "\n",
        "for i in range(np.random.randint(0,3)):   \n",
        "  alpha_part=alpha_part+alpha              #generating alphabet sequence\n",
        "\n",
        "alpha_part = alpha_part+str(num)+symbol    #generating password sequence\n",
        "\n",
        "shuff=[]\n",
        "password=''\n",
        "for i in alpha_part:\n",
        "  shuff.append(i)\n",
        "\n",
        "random.shuffle(shuff)                     #shuffling password characters to generate strong password \n",
        "\n",
        "for i in shuff:\n",
        "  password=password+i\n",
        "\n",
        "print(password)                           #printing the generated password"
      ],
      "metadata": {
        "colab": {
          "base_uri": "https://localhost:8080/"
        },
        "id": "KsygJTYfNNPA",
        "outputId": "3b3b5492-9113-4b82-9546-a36754a67220"
      },
      "execution_count": 12,
      "outputs": [
        {
          "output_type": "stream",
          "name": "stdout",
          "text": [
            "1fffeee*\n"
          ]
        }
      ]
    }
  ]
}