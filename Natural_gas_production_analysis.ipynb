{
  "cells": [
    {
      "cell_type": "code",
      "execution_count": null,
      "id": "16df4ada",
      "metadata": {
        "id": "16df4ada"
      },
      "outputs": [],
      "source": [
        "import numpy as np\n",
        "import pandas as pd"
      ]
    },
    {
      "cell_type": "code",
      "execution_count": null,
      "id": "f8622263",
      "metadata": {
        "id": "f8622263"
      },
      "outputs": [],
      "source": [
        "data = pd.read_csv('raw data.csv') #importing data to data frame"
      ]
    },
    {
      "cell_type": "code",
      "execution_count": null,
      "id": "34581863",
      "metadata": {
        "id": "34581863",
        "outputId": "12fbd76c-3fe7-4a4d-a9de-78496ca67738"
      },
      "outputs": [
        {
          "data": {
            "text/html": [
              "<div>\n",
              "<style scoped>\n",
              "    .dataframe tbody tr th:only-of-type {\n",
              "        vertical-align: middle;\n",
              "    }\n",
              "\n",
              "    .dataframe tbody tr th {\n",
              "        vertical-align: top;\n",
              "    }\n",
              "\n",
              "    .dataframe thead th {\n",
              "        text-align: right;\n",
              "    }\n",
              "</style>\n",
              "<table border=\"1\" class=\"dataframe\">\n",
              "  <thead>\n",
              "    <tr style=\"text-align: right;\">\n",
              "      <th></th>\n",
              "      <th>Area / State</th>\n",
              "      <th>Utilisation</th>\n",
              "      <th>2008-09</th>\n",
              "      <th>2009-10</th>\n",
              "      <th>2010-11</th>\n",
              "      <th>2011-12</th>\n",
              "      <th>2012-13</th>\n",
              "      <th>2013-14</th>\n",
              "      <th>2014-15*</th>\n",
              "    </tr>\n",
              "  </thead>\n",
              "  <tbody>\n",
              "    <tr>\n",
              "      <th>0</th>\n",
              "      <td>Assam</td>\n",
              "      <td>Gross Production</td>\n",
              "      <td>2573.00</td>\n",
              "      <td>2703.01</td>\n",
              "      <td>2679.85</td>\n",
              "      <td>2904.54</td>\n",
              "      <td>2909.79</td>\n",
              "      <td>2868.03</td>\n",
              "      <td>2958.25</td>\n",
              "    </tr>\n",
              "    <tr>\n",
              "      <th>1</th>\n",
              "      <td>Assam</td>\n",
              "      <td>Flared</td>\n",
              "      <td>173.38</td>\n",
              "      <td>182.24</td>\n",
              "      <td>174.76</td>\n",
              "      <td>168.65</td>\n",
              "      <td>193.89</td>\n",
              "      <td>172.63</td>\n",
              "      <td>186.02</td>\n",
              "    </tr>\n",
              "    <tr>\n",
              "      <th>2</th>\n",
              "      <td>Assam</td>\n",
              "      <td>Net Availability ^</td>\n",
              "      <td>2399.62</td>\n",
              "      <td>2520.77</td>\n",
              "      <td>2505.09</td>\n",
              "      <td>2735.89</td>\n",
              "      <td>2715.90</td>\n",
              "      <td>2695.40</td>\n",
              "      <td>2772.23</td>\n",
              "    </tr>\n",
              "    <tr>\n",
              "      <th>3</th>\n",
              "      <td>Assam</td>\n",
              "      <td>Re-injected (Internal Use)</td>\n",
              "      <td>540.11</td>\n",
              "      <td>558.57</td>\n",
              "      <td>549.73</td>\n",
              "      <td>583.85</td>\n",
              "      <td>576.76</td>\n",
              "      <td>567.55</td>\n",
              "      <td>578.17</td>\n",
              "    </tr>\n",
              "    <tr>\n",
              "      <th>4</th>\n",
              "      <td>Assam</td>\n",
              "      <td>Net Production (Sales)</td>\n",
              "      <td>1859.74</td>\n",
              "      <td>1963.38</td>\n",
              "      <td>1958.79</td>\n",
              "      <td>2151.86</td>\n",
              "      <td>2139.12</td>\n",
              "      <td>2127.86</td>\n",
              "      <td>2194.06</td>\n",
              "    </tr>\n",
              "  </tbody>\n",
              "</table>\n",
              "</div>"
            ],
            "text/plain": [
              "  Area / State                 Utilisation  2008-09  2009-10  2010-11  \\\n",
              "0       Assam             Gross Production  2573.00  2703.01  2679.85   \n",
              "1       Assam                       Flared   173.38   182.24   174.76   \n",
              "2       Assam           Net Availability ^  2399.62  2520.77  2505.09   \n",
              "3       Assam   Re-injected (Internal Use)   540.11   558.57   549.73   \n",
              "4       Assam       Net Production (Sales)  1859.74  1963.38  1958.79   \n",
              "\n",
              "   2011-12  2012-13  2013-14  2014-15*  \n",
              "0  2904.54  2909.79  2868.03   2958.25  \n",
              "1   168.65   193.89   172.63    186.02  \n",
              "2  2735.89  2715.90  2695.40   2772.23  \n",
              "3   583.85   576.76   567.55    578.17  \n",
              "4  2151.86  2139.12  2127.86   2194.06  "
            ]
          },
          "execution_count": 32,
          "metadata": {},
          "output_type": "execute_result"
        }
      ],
      "source": [
        "data.head() #viewing first 5 records"
      ]
    },
    {
      "cell_type": "code",
      "execution_count": null,
      "id": "01fb980e",
      "metadata": {
        "id": "01fb980e",
        "outputId": "4ebd6067-c42f-4ada-ebd5-109cef5220d3"
      },
      "outputs": [
        {
          "data": {
            "text/plain": [
              "array(['Assam ', 'Arunachal Pradesh', 'Rajasthan', 'Gujarat',\n",
              "       'Tamil Nadu ', 'Andhra Pradesh', 'Tripura', 'West Bengal (CBM) ',\n",
              "       'Madhya Pradesh (CBM)', 'Jharkhand (CBM)', 'A. Total Onshore',\n",
              "       'B. Offshore', 'Total (A&B)'], dtype=object)"
            ]
          },
          "execution_count": 34,
          "metadata": {},
          "output_type": "execute_result"
        }
      ],
      "source": [
        "data['Area / State'].unique()"
      ]
    },
    {
      "cell_type": "markdown",
      "id": "019db96e",
      "metadata": {
        "id": "019db96e"
      },
      "source": [
        "Records with 'Area / State' column marked as 'A. Total Onshore', 'B. Offshore', 'Total (A&B)' represent aggregate values and thus need to be deleted"
      ]
    },
    {
      "cell_type": "code",
      "execution_count": null,
      "id": "2105c081",
      "metadata": {
        "id": "2105c081"
      },
      "outputs": [],
      "source": [
        "useless_categories = ['A. Total Onshore', 'B. Offshore','Total (A&B)']\n",
        "data = data[~data['Area / State'].isin(useless_categories)]"
      ]
    },
    {
      "cell_type": "markdown",
      "id": "164109bb",
      "metadata": {
        "id": "164109bb"
      },
      "source": [
        "# Data cleaning"
      ]
    },
    {
      "cell_type": "code",
      "execution_count": null,
      "id": "044405ac",
      "metadata": {
        "id": "044405ac",
        "outputId": "3220c24f-2bf7-498e-ca25-3ee2c8abfe75"
      },
      "outputs": [
        {
          "data": {
            "text/plain": [
              "Area / State     0.0\n",
              "Utilisation      0.0\n",
              "2008-09         20.0\n",
              "2009-10         20.0\n",
              "2010-11         20.0\n",
              "2011-12          0.0\n",
              "2012-13          0.0\n",
              "2013-14          0.0\n",
              "2014-15*         0.0\n",
              "dtype: float64"
            ]
          },
          "execution_count": 42,
          "metadata": {},
          "output_type": "execute_result"
        }
      ],
      "source": [
        "round(data.isna().mean()*100,0)      #viewing % of null values in the columns"
      ]
    },
    {
      "cell_type": "markdown",
      "id": "46431588",
      "metadata": {
        "id": "46431588"
      },
      "source": [
        "There are 15% of records in columns '2008-09' , '2009-10' and '2010-11' are null"
      ]
    },
    {
      "cell_type": "code",
      "execution_count": null,
      "id": "f7d5fd54",
      "metadata": {
        "id": "f7d5fd54",
        "outputId": "fa8f3927-e8f0-46ec-a463-d75a030221c7"
      },
      "outputs": [
        {
          "data": {
            "text/html": [
              "<div>\n",
              "<style scoped>\n",
              "    .dataframe tbody tr th:only-of-type {\n",
              "        vertical-align: middle;\n",
              "    }\n",
              "\n",
              "    .dataframe tbody tr th {\n",
              "        vertical-align: top;\n",
              "    }\n",
              "\n",
              "    .dataframe thead th {\n",
              "        text-align: right;\n",
              "    }\n",
              "</style>\n",
              "<table border=\"1\" class=\"dataframe\">\n",
              "  <thead>\n",
              "    <tr style=\"text-align: right;\">\n",
              "      <th></th>\n",
              "      <th>Area / State</th>\n",
              "      <th>Utilisation</th>\n",
              "      <th>2008-09</th>\n",
              "      <th>2009-10</th>\n",
              "      <th>2010-11</th>\n",
              "      <th>2011-12</th>\n",
              "      <th>2012-13</th>\n",
              "      <th>2013-14</th>\n",
              "      <th>2014-15*</th>\n",
              "    </tr>\n",
              "  </thead>\n",
              "  <tbody>\n",
              "    <tr>\n",
              "      <th>48</th>\n",
              "      <td>Madhya Pradesh (CBM)</td>\n",
              "      <td>Gross Production</td>\n",
              "      <td>NaN</td>\n",
              "      <td>NaN</td>\n",
              "      <td>NaN</td>\n",
              "      <td>1.53</td>\n",
              "      <td>3.44</td>\n",
              "      <td>5.65</td>\n",
              "      <td>2.08</td>\n",
              "    </tr>\n",
              "    <tr>\n",
              "      <th>49</th>\n",
              "      <td>Madhya Pradesh (CBM)</td>\n",
              "      <td>Flared</td>\n",
              "      <td>NaN</td>\n",
              "      <td>NaN</td>\n",
              "      <td>NaN</td>\n",
              "      <td>0.89</td>\n",
              "      <td>2.30</td>\n",
              "      <td>4.09</td>\n",
              "      <td>1.29</td>\n",
              "    </tr>\n",
              "    <tr>\n",
              "      <th>50</th>\n",
              "      <td>Madhya Pradesh (CBM)</td>\n",
              "      <td>Net Availability ^</td>\n",
              "      <td>NaN</td>\n",
              "      <td>NaN</td>\n",
              "      <td>NaN</td>\n",
              "      <td>0.63</td>\n",
              "      <td>1.14</td>\n",
              "      <td>1.57</td>\n",
              "      <td>0.79</td>\n",
              "    </tr>\n",
              "    <tr>\n",
              "      <th>51</th>\n",
              "      <td>Madhya Pradesh (CBM)</td>\n",
              "      <td>Re-injected (Internal Use)</td>\n",
              "      <td>NaN</td>\n",
              "      <td>NaN</td>\n",
              "      <td>NaN</td>\n",
              "      <td>0.63</td>\n",
              "      <td>1.14</td>\n",
              "      <td>1.57</td>\n",
              "      <td>0.79</td>\n",
              "    </tr>\n",
              "    <tr>\n",
              "      <th>52</th>\n",
              "      <td>Madhya Pradesh (CBM)</td>\n",
              "      <td>Net Production (Sales)</td>\n",
              "      <td>NaN</td>\n",
              "      <td>NaN</td>\n",
              "      <td>NaN</td>\n",
              "      <td>0.00</td>\n",
              "      <td>0.00</td>\n",
              "      <td>0.00</td>\n",
              "      <td>0.00</td>\n",
              "    </tr>\n",
              "    <tr>\n",
              "      <th>53</th>\n",
              "      <td>Madhya Pradesh (CBM)</td>\n",
              "      <td>% Flared to GP</td>\n",
              "      <td>NaN</td>\n",
              "      <td>NaN</td>\n",
              "      <td>NaN</td>\n",
              "      <td>58.58</td>\n",
              "      <td>66.89</td>\n",
              "      <td>72.29</td>\n",
              "      <td>62.16</td>\n",
              "    </tr>\n",
              "    <tr>\n",
              "      <th>54</th>\n",
              "      <td>Jharkhand (CBM)</td>\n",
              "      <td>Gross Production</td>\n",
              "      <td>NaN</td>\n",
              "      <td>NaN</td>\n",
              "      <td>NaN</td>\n",
              "      <td>3.56</td>\n",
              "      <td>2.95</td>\n",
              "      <td>3.38</td>\n",
              "      <td>2.48</td>\n",
              "    </tr>\n",
              "    <tr>\n",
              "      <th>55</th>\n",
              "      <td>Jharkhand (CBM)</td>\n",
              "      <td>Flared</td>\n",
              "      <td>NaN</td>\n",
              "      <td>NaN</td>\n",
              "      <td>NaN</td>\n",
              "      <td>0.00</td>\n",
              "      <td>0.00</td>\n",
              "      <td>0.00</td>\n",
              "      <td>0.00</td>\n",
              "    </tr>\n",
              "    <tr>\n",
              "      <th>56</th>\n",
              "      <td>Jharkhand (CBM)</td>\n",
              "      <td>Net Availability ^</td>\n",
              "      <td>NaN</td>\n",
              "      <td>NaN</td>\n",
              "      <td>NaN</td>\n",
              "      <td>3.56</td>\n",
              "      <td>2.95</td>\n",
              "      <td>3.38</td>\n",
              "      <td>2.48</td>\n",
              "    </tr>\n",
              "    <tr>\n",
              "      <th>57</th>\n",
              "      <td>Jharkhand (CBM)</td>\n",
              "      <td>Re-injected (Internal Use)</td>\n",
              "      <td>NaN</td>\n",
              "      <td>NaN</td>\n",
              "      <td>NaN</td>\n",
              "      <td>0.00</td>\n",
              "      <td>0.00</td>\n",
              "      <td>0.00</td>\n",
              "      <td>0.02</td>\n",
              "    </tr>\n",
              "    <tr>\n",
              "      <th>58</th>\n",
              "      <td>Jharkhand (CBM)</td>\n",
              "      <td>Net Production (Sales)</td>\n",
              "      <td>NaN</td>\n",
              "      <td>NaN</td>\n",
              "      <td>NaN</td>\n",
              "      <td>3.56</td>\n",
              "      <td>2.95</td>\n",
              "      <td>3.38</td>\n",
              "      <td>2.46</td>\n",
              "    </tr>\n",
              "    <tr>\n",
              "      <th>59</th>\n",
              "      <td>Jharkhand (CBM)</td>\n",
              "      <td>% Flared to GP</td>\n",
              "      <td>NaN</td>\n",
              "      <td>NaN</td>\n",
              "      <td>NaN</td>\n",
              "      <td>0.00</td>\n",
              "      <td>0.00</td>\n",
              "      <td>0.00</td>\n",
              "      <td>0.00</td>\n",
              "    </tr>\n",
              "  </tbody>\n",
              "</table>\n",
              "</div>"
            ],
            "text/plain": [
              "            Area / State                 Utilisation  2008-09  2009-10  \\\n",
              "48  Madhya Pradesh (CBM)            Gross Production      NaN      NaN   \n",
              "49  Madhya Pradesh (CBM)                      Flared      NaN      NaN   \n",
              "50  Madhya Pradesh (CBM)          Net Availability ^      NaN      NaN   \n",
              "51  Madhya Pradesh (CBM)  Re-injected (Internal Use)      NaN      NaN   \n",
              "52  Madhya Pradesh (CBM)      Net Production (Sales)      NaN      NaN   \n",
              "53  Madhya Pradesh (CBM)              % Flared to GP      NaN      NaN   \n",
              "54       Jharkhand (CBM)            Gross Production      NaN      NaN   \n",
              "55       Jharkhand (CBM)                      Flared      NaN      NaN   \n",
              "56       Jharkhand (CBM)          Net Availability ^      NaN      NaN   \n",
              "57       Jharkhand (CBM)  Re-injected (Internal Use)      NaN      NaN   \n",
              "58       Jharkhand (CBM)      Net Production (Sales)      NaN      NaN   \n",
              "59       Jharkhand (CBM)              % Flared to GP      NaN      NaN   \n",
              "\n",
              "    2010-11  2011-12  2012-13  2013-14  2014-15*  \n",
              "48      NaN     1.53     3.44     5.65      2.08  \n",
              "49      NaN     0.89     2.30     4.09      1.29  \n",
              "50      NaN     0.63     1.14     1.57      0.79  \n",
              "51      NaN     0.63     1.14     1.57      0.79  \n",
              "52      NaN     0.00     0.00     0.00      0.00  \n",
              "53      NaN    58.58    66.89    72.29     62.16  \n",
              "54      NaN     3.56     2.95     3.38      2.48  \n",
              "55      NaN     0.00     0.00     0.00      0.00  \n",
              "56      NaN     3.56     2.95     3.38      2.48  \n",
              "57      NaN     0.00     0.00     0.00      0.02  \n",
              "58      NaN     3.56     2.95     3.38      2.46  \n",
              "59      NaN     0.00     0.00     0.00      0.00  "
            ]
          },
          "execution_count": 43,
          "metadata": {},
          "output_type": "execute_result"
        }
      ],
      "source": [
        "data[data['2008-09'].isna()] #viewing null records"
      ]
    },
    {
      "cell_type": "markdown",
      "id": "c10fc332",
      "metadata": {
        "id": "c10fc332"
      },
      "source": [
        "Since production started from Madhya Pradesh and Jharkhand CBM fields in 2011, there are no records prior to that"
      ]
    },
    {
      "cell_type": "code",
      "execution_count": null,
      "id": "3d79c96d",
      "metadata": {
        "id": "3d79c96d"
      },
      "outputs": [],
      "source": [
        "cleaned_data = data.fillna(0)"
      ]
    },
    {
      "cell_type": "code",
      "execution_count": null,
      "id": "6b687a3d",
      "metadata": {
        "id": "6b687a3d",
        "outputId": "6c09ef29-5fe1-4803-a4ba-9f7a300e35e3"
      },
      "outputs": [
        {
          "data": {
            "text/plain": [
              "Area / State    0.0\n",
              "Utilisation     0.0\n",
              "2008-09         0.0\n",
              "2009-10         0.0\n",
              "2010-11         0.0\n",
              "2011-12         0.0\n",
              "2012-13         0.0\n",
              "2013-14         0.0\n",
              "2014-15*        0.0\n",
              "dtype: float64"
            ]
          },
          "execution_count": 45,
          "metadata": {},
          "output_type": "execute_result"
        }
      ],
      "source": [
        "round(cleaned_data.isna().mean()*100,0)"
      ]
    },
    {
      "cell_type": "markdown",
      "id": "5f56afea",
      "metadata": {
        "id": "5f56afea"
      },
      "source": [
        "# Gross production"
      ]
    },
    {
      "cell_type": "code",
      "execution_count": null,
      "id": "1a76f356",
      "metadata": {
        "id": "1a76f356",
        "outputId": "f399b594-60c5-4b04-8ddb-c6a4f920f25c"
      },
      "outputs": [
        {
          "name": "stderr",
          "output_type": "stream",
          "text": [
            "C:\\Users\\hp\\AppData\\Local\\Temp\\ipykernel_8860\\1716123215.py:2: SettingWithCopyWarning: \n",
            "A value is trying to be set on a copy of a slice from a DataFrame\n",
            "\n",
            "See the caveats in the documentation: https://pandas.pydata.org/pandas-docs/stable/user_guide/indexing.html#returning-a-view-versus-a-copy\n",
            "  gross_production.drop(columns='Utilisation',inplace = True) #removing redundant column\n"
          ]
        }
      ],
      "source": [
        "gross_production = cleaned_data[cleaned_data['Utilisation'].isin(['Gross Production'])] #extraction year wise gross production data\n",
        "gross_production.drop(columns='Utilisation',inplace = True) #removing redundant column"
      ]
    },
    {
      "cell_type": "code",
      "execution_count": null,
      "id": "16e8f9c4",
      "metadata": {
        "id": "16e8f9c4",
        "outputId": "ae6ac492-dd9f-4771-bc03-e8e9e83116ae"
      },
      "outputs": [
        {
          "data": {
            "text/html": [
              "<div>\n",
              "<style scoped>\n",
              "    .dataframe tbody tr th:only-of-type {\n",
              "        vertical-align: middle;\n",
              "    }\n",
              "\n",
              "    .dataframe tbody tr th {\n",
              "        vertical-align: top;\n",
              "    }\n",
              "\n",
              "    .dataframe thead th {\n",
              "        text-align: right;\n",
              "    }\n",
              "</style>\n",
              "<table border=\"1\" class=\"dataframe\">\n",
              "  <thead>\n",
              "    <tr style=\"text-align: right;\">\n",
              "      <th></th>\n",
              "      <th>Area / State</th>\n",
              "      <th>2008-09</th>\n",
              "      <th>2009-10</th>\n",
              "      <th>2010-11</th>\n",
              "      <th>2011-12</th>\n",
              "      <th>2012-13</th>\n",
              "      <th>2013-14</th>\n",
              "      <th>2014-15*</th>\n",
              "    </tr>\n",
              "  </thead>\n",
              "  <tbody>\n",
              "    <tr>\n",
              "      <th>0</th>\n",
              "      <td>Assam</td>\n",
              "      <td>2573.0</td>\n",
              "      <td>2703.01</td>\n",
              "      <td>2679.85</td>\n",
              "      <td>2904.54</td>\n",
              "      <td>2909.79</td>\n",
              "      <td>2868.03</td>\n",
              "      <td>2958.25</td>\n",
              "    </tr>\n",
              "    <tr>\n",
              "      <th>6</th>\n",
              "      <td>Arunachal Pradesh</td>\n",
              "      <td>30.0</td>\n",
              "      <td>39.60</td>\n",
              "      <td>44.49</td>\n",
              "      <td>39.50</td>\n",
              "      <td>41.07</td>\n",
              "      <td>41.39</td>\n",
              "      <td>33.53</td>\n",
              "    </tr>\n",
              "    <tr>\n",
              "      <th>12</th>\n",
              "      <td>Rajasthan</td>\n",
              "      <td>216.0</td>\n",
              "      <td>238.86</td>\n",
              "      <td>432.49</td>\n",
              "      <td>590.18</td>\n",
              "      <td>685.42</td>\n",
              "      <td>982.20</td>\n",
              "      <td>1177.77</td>\n",
              "    </tr>\n",
              "    <tr>\n",
              "      <th>18</th>\n",
              "      <td>Gujarat</td>\n",
              "      <td>2605.0</td>\n",
              "      <td>2444.18</td>\n",
              "      <td>2261.83</td>\n",
              "      <td>2172.93</td>\n",
              "      <td>2032.09</td>\n",
              "      <td>1656.94</td>\n",
              "      <td>1525.65</td>\n",
              "    </tr>\n",
              "    <tr>\n",
              "      <th>24</th>\n",
              "      <td>Tamil Nadu</td>\n",
              "      <td>1242.0</td>\n",
              "      <td>1177.75</td>\n",
              "      <td>1119.18</td>\n",
              "      <td>1284.76</td>\n",
              "      <td>1206.04</td>\n",
              "      <td>1304.02</td>\n",
              "      <td>1191.57</td>\n",
              "    </tr>\n",
              "    <tr>\n",
              "      <th>30</th>\n",
              "      <td>Andhra Pradesh</td>\n",
              "      <td>1524.0</td>\n",
              "      <td>1479.26</td>\n",
              "      <td>1384.39</td>\n",
              "      <td>1363.78</td>\n",
              "      <td>1248.55</td>\n",
              "      <td>1171.34</td>\n",
              "      <td>540.59</td>\n",
              "    </tr>\n",
              "    <tr>\n",
              "      <th>36</th>\n",
              "      <td>Tripura</td>\n",
              "      <td>553.0</td>\n",
              "      <td>563.79</td>\n",
              "      <td>609.98</td>\n",
              "      <td>643.90</td>\n",
              "      <td>646.74</td>\n",
              "      <td>822.24</td>\n",
              "      <td>1140.04</td>\n",
              "    </tr>\n",
              "    <tr>\n",
              "      <th>42</th>\n",
              "      <td>West Bengal (CBM)</td>\n",
              "      <td>20.0</td>\n",
              "      <td>38.40</td>\n",
              "      <td>41.36</td>\n",
              "      <td>79.11</td>\n",
              "      <td>100.85</td>\n",
              "      <td>156.49</td>\n",
              "      <td>223.68</td>\n",
              "    </tr>\n",
              "    <tr>\n",
              "      <th>48</th>\n",
              "      <td>Madhya Pradesh (CBM)</td>\n",
              "      <td>0.0</td>\n",
              "      <td>0.00</td>\n",
              "      <td>0.00</td>\n",
              "      <td>1.53</td>\n",
              "      <td>3.44</td>\n",
              "      <td>5.65</td>\n",
              "      <td>2.08</td>\n",
              "    </tr>\n",
              "    <tr>\n",
              "      <th>54</th>\n",
              "      <td>Jharkhand (CBM)</td>\n",
              "      <td>0.0</td>\n",
              "      <td>0.00</td>\n",
              "      <td>0.00</td>\n",
              "      <td>3.56</td>\n",
              "      <td>2.95</td>\n",
              "      <td>3.38</td>\n",
              "      <td>2.48</td>\n",
              "    </tr>\n",
              "  </tbody>\n",
              "</table>\n",
              "</div>"
            ],
            "text/plain": [
              "            Area / State  2008-09  2009-10  2010-11  2011-12  2012-13  \\\n",
              "0                 Assam    2573.0  2703.01  2679.85  2904.54  2909.79   \n",
              "6      Arunachal Pradesh     30.0    39.60    44.49    39.50    41.07   \n",
              "12             Rajasthan    216.0   238.86   432.49   590.18   685.42   \n",
              "18               Gujarat   2605.0  2444.18  2261.83  2172.93  2032.09   \n",
              "24           Tamil Nadu    1242.0  1177.75  1119.18  1284.76  1206.04   \n",
              "30        Andhra Pradesh   1524.0  1479.26  1384.39  1363.78  1248.55   \n",
              "36               Tripura    553.0   563.79   609.98   643.90   646.74   \n",
              "42    West Bengal (CBM)      20.0    38.40    41.36    79.11   100.85   \n",
              "48  Madhya Pradesh (CBM)      0.0     0.00     0.00     1.53     3.44   \n",
              "54       Jharkhand (CBM)      0.0     0.00     0.00     3.56     2.95   \n",
              "\n",
              "    2013-14  2014-15*  \n",
              "0   2868.03   2958.25  \n",
              "6     41.39     33.53  \n",
              "12   982.20   1177.77  \n",
              "18  1656.94   1525.65  \n",
              "24  1304.02   1191.57  \n",
              "30  1171.34    540.59  \n",
              "36   822.24   1140.04  \n",
              "42   156.49    223.68  \n",
              "48     5.65      2.08  \n",
              "54     3.38      2.48  "
            ]
          },
          "execution_count": 49,
          "metadata": {},
          "output_type": "execute_result"
        }
      ],
      "source": [
        "gross_production"
      ]
    },
    {
      "cell_type": "code",
      "execution_count": null,
      "id": "84871b2a",
      "metadata": {
        "id": "84871b2a"
      },
      "outputs": [],
      "source": [
        "#finding highest gross producer of natural gas in different years\n",
        "\n",
        "List = ['2008-09','2009-10','2010-11','2011-12','2012-13','2013-14','2014-15*']\n",
        "states = []\n",
        "for i in List:\n",
        "    states.append(gross_production[gross_production[i]==gross_production[i].max()]['Area / State'].values[0])\n",
        "\n",
        "production = gross_production[List].max()\n",
        "\n",
        "top_gross_producer = pd.DataFrame({'State':states, 'Gross production':production})\n",
        "top_gross_producer = top_gross_producer.reset_index().rename(columns={'index':'Year'})"
      ]
    },
    {
      "cell_type": "code",
      "execution_count": null,
      "id": "002f2d68",
      "metadata": {
        "id": "002f2d68",
        "outputId": "dc11dd2e-2221-4c58-e5c3-d05c233f34ba"
      },
      "outputs": [
        {
          "data": {
            "text/html": [
              "<div>\n",
              "<style scoped>\n",
              "    .dataframe tbody tr th:only-of-type {\n",
              "        vertical-align: middle;\n",
              "    }\n",
              "\n",
              "    .dataframe tbody tr th {\n",
              "        vertical-align: top;\n",
              "    }\n",
              "\n",
              "    .dataframe thead th {\n",
              "        text-align: right;\n",
              "    }\n",
              "</style>\n",
              "<table border=\"1\" class=\"dataframe\">\n",
              "  <thead>\n",
              "    <tr style=\"text-align: right;\">\n",
              "      <th></th>\n",
              "      <th>Year</th>\n",
              "      <th>State</th>\n",
              "      <th>Gross production</th>\n",
              "    </tr>\n",
              "  </thead>\n",
              "  <tbody>\n",
              "    <tr>\n",
              "      <th>0</th>\n",
              "      <td>2008-09</td>\n",
              "      <td>Gujarat</td>\n",
              "      <td>2605.00</td>\n",
              "    </tr>\n",
              "    <tr>\n",
              "      <th>1</th>\n",
              "      <td>2009-10</td>\n",
              "      <td>Assam</td>\n",
              "      <td>2703.01</td>\n",
              "    </tr>\n",
              "    <tr>\n",
              "      <th>2</th>\n",
              "      <td>2010-11</td>\n",
              "      <td>Assam</td>\n",
              "      <td>2679.85</td>\n",
              "    </tr>\n",
              "    <tr>\n",
              "      <th>3</th>\n",
              "      <td>2011-12</td>\n",
              "      <td>Assam</td>\n",
              "      <td>2904.54</td>\n",
              "    </tr>\n",
              "    <tr>\n",
              "      <th>4</th>\n",
              "      <td>2012-13</td>\n",
              "      <td>Assam</td>\n",
              "      <td>2909.79</td>\n",
              "    </tr>\n",
              "    <tr>\n",
              "      <th>5</th>\n",
              "      <td>2013-14</td>\n",
              "      <td>Assam</td>\n",
              "      <td>2868.03</td>\n",
              "    </tr>\n",
              "    <tr>\n",
              "      <th>6</th>\n",
              "      <td>2014-15*</td>\n",
              "      <td>Assam</td>\n",
              "      <td>2958.25</td>\n",
              "    </tr>\n",
              "  </tbody>\n",
              "</table>\n",
              "</div>"
            ],
            "text/plain": [
              "       Year    State  Gross production\n",
              "0   2008-09  Gujarat           2605.00\n",
              "1   2009-10   Assam            2703.01\n",
              "2   2010-11   Assam            2679.85\n",
              "3   2011-12   Assam            2904.54\n",
              "4   2012-13   Assam            2909.79\n",
              "5   2013-14   Assam            2868.03\n",
              "6  2014-15*   Assam            2958.25"
            ]
          },
          "execution_count": 51,
          "metadata": {},
          "output_type": "execute_result"
        }
      ],
      "source": [
        "top_gross_producer"
      ]
    },
    {
      "cell_type": "markdown",
      "id": "d4c7cd04",
      "metadata": {
        "id": "d4c7cd04"
      },
      "source": [
        "Assam has been the leading highest gross producer of natural gas since 2009"
      ]
    },
    {
      "cell_type": "code",
      "execution_count": null,
      "id": "4bee22b0",
      "metadata": {
        "id": "4bee22b0",
        "outputId": "f9b6a555-3b84-4ece-a5a3-abb1fa08f8cf"
      },
      "outputs": [
        {
          "data": {
            "text/html": [
              "<div>\n",
              "<style scoped>\n",
              "    .dataframe tbody tr th:only-of-type {\n",
              "        vertical-align: middle;\n",
              "    }\n",
              "\n",
              "    .dataframe tbody tr th {\n",
              "        vertical-align: top;\n",
              "    }\n",
              "\n",
              "    .dataframe thead th {\n",
              "        text-align: right;\n",
              "    }\n",
              "</style>\n",
              "<table border=\"1\" class=\"dataframe\">\n",
              "  <thead>\n",
              "    <tr style=\"text-align: right;\">\n",
              "      <th></th>\n",
              "      <th>Area / State</th>\n",
              "      <th>2008-09</th>\n",
              "    </tr>\n",
              "  </thead>\n",
              "  <tbody>\n",
              "    <tr>\n",
              "      <th>0</th>\n",
              "      <td>Gujarat</td>\n",
              "      <td>2605.0</td>\n",
              "    </tr>\n",
              "    <tr>\n",
              "      <th>1</th>\n",
              "      <td>Assam</td>\n",
              "      <td>2573.0</td>\n",
              "    </tr>\n",
              "    <tr>\n",
              "      <th>2</th>\n",
              "      <td>Andhra Pradesh</td>\n",
              "      <td>1524.0</td>\n",
              "    </tr>\n",
              "    <tr>\n",
              "      <th>3</th>\n",
              "      <td>Tamil Nadu</td>\n",
              "      <td>1242.0</td>\n",
              "    </tr>\n",
              "    <tr>\n",
              "      <th>4</th>\n",
              "      <td>Tripura</td>\n",
              "      <td>553.0</td>\n",
              "    </tr>\n",
              "    <tr>\n",
              "      <th>5</th>\n",
              "      <td>Rajasthan</td>\n",
              "      <td>216.0</td>\n",
              "    </tr>\n",
              "    <tr>\n",
              "      <th>6</th>\n",
              "      <td>Arunachal Pradesh</td>\n",
              "      <td>30.0</td>\n",
              "    </tr>\n",
              "    <tr>\n",
              "      <th>7</th>\n",
              "      <td>West Bengal (CBM)</td>\n",
              "      <td>20.0</td>\n",
              "    </tr>\n",
              "    <tr>\n",
              "      <th>8</th>\n",
              "      <td>Madhya Pradesh (CBM)</td>\n",
              "      <td>0.0</td>\n",
              "    </tr>\n",
              "    <tr>\n",
              "      <th>9</th>\n",
              "      <td>Jharkhand (CBM)</td>\n",
              "      <td>0.0</td>\n",
              "    </tr>\n",
              "  </tbody>\n",
              "</table>\n",
              "</div>"
            ],
            "text/plain": [
              "           Area / State  2008-09\n",
              "0               Gujarat   2605.0\n",
              "1                Assam    2573.0\n",
              "2        Andhra Pradesh   1524.0\n",
              "3           Tamil Nadu    1242.0\n",
              "4               Tripura    553.0\n",
              "5             Rajasthan    216.0\n",
              "6     Arunachal Pradesh     30.0\n",
              "7    West Bengal (CBM)      20.0\n",
              "8  Madhya Pradesh (CBM)      0.0\n",
              "9       Jharkhand (CBM)      0.0"
            ]
          },
          "execution_count": 52,
          "metadata": {},
          "output_type": "execute_result"
        }
      ],
      "source": [
        "gross_production[['Area / State','2008-09']].sort_values(by='2008-09',ascending=False).reset_index().drop(columns='index',axis=0)"
      ]
    },
    {
      "cell_type": "code",
      "execution_count": null,
      "id": "df2338a8",
      "metadata": {
        "id": "df2338a8",
        "outputId": "1f185f8f-635d-4c36-99b1-8372aed9fbad"
      },
      "outputs": [
        {
          "data": {
            "text/html": [
              "<div>\n",
              "<style scoped>\n",
              "    .dataframe tbody tr th:only-of-type {\n",
              "        vertical-align: middle;\n",
              "    }\n",
              "\n",
              "    .dataframe tbody tr th {\n",
              "        vertical-align: top;\n",
              "    }\n",
              "\n",
              "    .dataframe thead th {\n",
              "        text-align: right;\n",
              "    }\n",
              "</style>\n",
              "<table border=\"1\" class=\"dataframe\">\n",
              "  <thead>\n",
              "    <tr style=\"text-align: right;\">\n",
              "      <th></th>\n",
              "      <th>Area / State</th>\n",
              "      <th>2009-10</th>\n",
              "    </tr>\n",
              "  </thead>\n",
              "  <tbody>\n",
              "    <tr>\n",
              "      <th>0</th>\n",
              "      <td>Assam</td>\n",
              "      <td>2703.01</td>\n",
              "    </tr>\n",
              "    <tr>\n",
              "      <th>1</th>\n",
              "      <td>Gujarat</td>\n",
              "      <td>2444.18</td>\n",
              "    </tr>\n",
              "    <tr>\n",
              "      <th>2</th>\n",
              "      <td>Andhra Pradesh</td>\n",
              "      <td>1479.26</td>\n",
              "    </tr>\n",
              "    <tr>\n",
              "      <th>3</th>\n",
              "      <td>Tamil Nadu</td>\n",
              "      <td>1177.75</td>\n",
              "    </tr>\n",
              "    <tr>\n",
              "      <th>4</th>\n",
              "      <td>Tripura</td>\n",
              "      <td>563.79</td>\n",
              "    </tr>\n",
              "    <tr>\n",
              "      <th>5</th>\n",
              "      <td>Rajasthan</td>\n",
              "      <td>238.86</td>\n",
              "    </tr>\n",
              "    <tr>\n",
              "      <th>6</th>\n",
              "      <td>Arunachal Pradesh</td>\n",
              "      <td>39.60</td>\n",
              "    </tr>\n",
              "    <tr>\n",
              "      <th>7</th>\n",
              "      <td>West Bengal (CBM)</td>\n",
              "      <td>38.40</td>\n",
              "    </tr>\n",
              "    <tr>\n",
              "      <th>8</th>\n",
              "      <td>Madhya Pradesh (CBM)</td>\n",
              "      <td>0.00</td>\n",
              "    </tr>\n",
              "    <tr>\n",
              "      <th>9</th>\n",
              "      <td>Jharkhand (CBM)</td>\n",
              "      <td>0.00</td>\n",
              "    </tr>\n",
              "  </tbody>\n",
              "</table>\n",
              "</div>"
            ],
            "text/plain": [
              "           Area / State  2009-10\n",
              "0                Assam   2703.01\n",
              "1               Gujarat  2444.18\n",
              "2        Andhra Pradesh  1479.26\n",
              "3           Tamil Nadu   1177.75\n",
              "4               Tripura   563.79\n",
              "5             Rajasthan   238.86\n",
              "6     Arunachal Pradesh    39.60\n",
              "7    West Bengal (CBM)     38.40\n",
              "8  Madhya Pradesh (CBM)     0.00\n",
              "9       Jharkhand (CBM)     0.00"
            ]
          },
          "execution_count": 53,
          "metadata": {},
          "output_type": "execute_result"
        }
      ],
      "source": [
        "gross_production[['Area / State','2009-10']].sort_values(by='2009-10',ascending=False).reset_index().drop(columns='index',axis=0)"
      ]
    },
    {
      "cell_type": "code",
      "execution_count": null,
      "id": "e4503066",
      "metadata": {
        "id": "e4503066",
        "outputId": "b4bdc7f5-bddb-4e02-b1a3-77ef125f6d0e"
      },
      "outputs": [
        {
          "data": {
            "text/html": [
              "<div>\n",
              "<style scoped>\n",
              "    .dataframe tbody tr th:only-of-type {\n",
              "        vertical-align: middle;\n",
              "    }\n",
              "\n",
              "    .dataframe tbody tr th {\n",
              "        vertical-align: top;\n",
              "    }\n",
              "\n",
              "    .dataframe thead th {\n",
              "        text-align: right;\n",
              "    }\n",
              "</style>\n",
              "<table border=\"1\" class=\"dataframe\">\n",
              "  <thead>\n",
              "    <tr style=\"text-align: right;\">\n",
              "      <th></th>\n",
              "      <th>Area / State</th>\n",
              "      <th>2010-11</th>\n",
              "    </tr>\n",
              "  </thead>\n",
              "  <tbody>\n",
              "    <tr>\n",
              "      <th>0</th>\n",
              "      <td>Assam</td>\n",
              "      <td>2679.85</td>\n",
              "    </tr>\n",
              "    <tr>\n",
              "      <th>1</th>\n",
              "      <td>Gujarat</td>\n",
              "      <td>2261.83</td>\n",
              "    </tr>\n",
              "    <tr>\n",
              "      <th>2</th>\n",
              "      <td>Andhra Pradesh</td>\n",
              "      <td>1384.39</td>\n",
              "    </tr>\n",
              "    <tr>\n",
              "      <th>3</th>\n",
              "      <td>Tamil Nadu</td>\n",
              "      <td>1119.18</td>\n",
              "    </tr>\n",
              "    <tr>\n",
              "      <th>4</th>\n",
              "      <td>Tripura</td>\n",
              "      <td>609.98</td>\n",
              "    </tr>\n",
              "    <tr>\n",
              "      <th>5</th>\n",
              "      <td>Rajasthan</td>\n",
              "      <td>432.49</td>\n",
              "    </tr>\n",
              "    <tr>\n",
              "      <th>6</th>\n",
              "      <td>Arunachal Pradesh</td>\n",
              "      <td>44.49</td>\n",
              "    </tr>\n",
              "    <tr>\n",
              "      <th>7</th>\n",
              "      <td>West Bengal (CBM)</td>\n",
              "      <td>41.36</td>\n",
              "    </tr>\n",
              "    <tr>\n",
              "      <th>8</th>\n",
              "      <td>Madhya Pradesh (CBM)</td>\n",
              "      <td>0.00</td>\n",
              "    </tr>\n",
              "    <tr>\n",
              "      <th>9</th>\n",
              "      <td>Jharkhand (CBM)</td>\n",
              "      <td>0.00</td>\n",
              "    </tr>\n",
              "  </tbody>\n",
              "</table>\n",
              "</div>"
            ],
            "text/plain": [
              "           Area / State  2010-11\n",
              "0                Assam   2679.85\n",
              "1               Gujarat  2261.83\n",
              "2        Andhra Pradesh  1384.39\n",
              "3           Tamil Nadu   1119.18\n",
              "4               Tripura   609.98\n",
              "5             Rajasthan   432.49\n",
              "6     Arunachal Pradesh    44.49\n",
              "7    West Bengal (CBM)     41.36\n",
              "8  Madhya Pradesh (CBM)     0.00\n",
              "9       Jharkhand (CBM)     0.00"
            ]
          },
          "execution_count": 54,
          "metadata": {},
          "output_type": "execute_result"
        }
      ],
      "source": [
        "gross_production[['Area / State','2010-11']].sort_values(by='2010-11',ascending=False).reset_index().drop(columns='index',axis=0)"
      ]
    },
    {
      "cell_type": "code",
      "execution_count": null,
      "id": "ef364076",
      "metadata": {
        "id": "ef364076",
        "outputId": "0e06cfeb-fc43-4447-8908-1b960ddc1f98"
      },
      "outputs": [
        {
          "data": {
            "text/html": [
              "<div>\n",
              "<style scoped>\n",
              "    .dataframe tbody tr th:only-of-type {\n",
              "        vertical-align: middle;\n",
              "    }\n",
              "\n",
              "    .dataframe tbody tr th {\n",
              "        vertical-align: top;\n",
              "    }\n",
              "\n",
              "    .dataframe thead th {\n",
              "        text-align: right;\n",
              "    }\n",
              "</style>\n",
              "<table border=\"1\" class=\"dataframe\">\n",
              "  <thead>\n",
              "    <tr style=\"text-align: right;\">\n",
              "      <th></th>\n",
              "      <th>Area / State</th>\n",
              "      <th>2011-12</th>\n",
              "    </tr>\n",
              "  </thead>\n",
              "  <tbody>\n",
              "    <tr>\n",
              "      <th>0</th>\n",
              "      <td>Assam</td>\n",
              "      <td>2904.54</td>\n",
              "    </tr>\n",
              "    <tr>\n",
              "      <th>1</th>\n",
              "      <td>Gujarat</td>\n",
              "      <td>2172.93</td>\n",
              "    </tr>\n",
              "    <tr>\n",
              "      <th>2</th>\n",
              "      <td>Andhra Pradesh</td>\n",
              "      <td>1363.78</td>\n",
              "    </tr>\n",
              "    <tr>\n",
              "      <th>3</th>\n",
              "      <td>Tamil Nadu</td>\n",
              "      <td>1284.76</td>\n",
              "    </tr>\n",
              "    <tr>\n",
              "      <th>4</th>\n",
              "      <td>Tripura</td>\n",
              "      <td>643.90</td>\n",
              "    </tr>\n",
              "    <tr>\n",
              "      <th>5</th>\n",
              "      <td>Rajasthan</td>\n",
              "      <td>590.18</td>\n",
              "    </tr>\n",
              "    <tr>\n",
              "      <th>6</th>\n",
              "      <td>West Bengal (CBM)</td>\n",
              "      <td>79.11</td>\n",
              "    </tr>\n",
              "    <tr>\n",
              "      <th>7</th>\n",
              "      <td>Arunachal Pradesh</td>\n",
              "      <td>39.50</td>\n",
              "    </tr>\n",
              "    <tr>\n",
              "      <th>8</th>\n",
              "      <td>Jharkhand (CBM)</td>\n",
              "      <td>3.56</td>\n",
              "    </tr>\n",
              "    <tr>\n",
              "      <th>9</th>\n",
              "      <td>Madhya Pradesh (CBM)</td>\n",
              "      <td>1.53</td>\n",
              "    </tr>\n",
              "  </tbody>\n",
              "</table>\n",
              "</div>"
            ],
            "text/plain": [
              "           Area / State  2011-12\n",
              "0                Assam   2904.54\n",
              "1               Gujarat  2172.93\n",
              "2        Andhra Pradesh  1363.78\n",
              "3           Tamil Nadu   1284.76\n",
              "4               Tripura   643.90\n",
              "5             Rajasthan   590.18\n",
              "6    West Bengal (CBM)     79.11\n",
              "7     Arunachal Pradesh    39.50\n",
              "8       Jharkhand (CBM)     3.56\n",
              "9  Madhya Pradesh (CBM)     1.53"
            ]
          },
          "execution_count": 55,
          "metadata": {},
          "output_type": "execute_result"
        }
      ],
      "source": [
        "gross_production[['Area / State','2011-12']].sort_values(by='2011-12',ascending=False).reset_index().drop(columns='index',axis=0)"
      ]
    },
    {
      "cell_type": "code",
      "execution_count": null,
      "id": "5c820260",
      "metadata": {
        "id": "5c820260",
        "outputId": "bc5076db-fd1a-4ea3-ff9a-2dfce2313580"
      },
      "outputs": [
        {
          "data": {
            "text/html": [
              "<div>\n",
              "<style scoped>\n",
              "    .dataframe tbody tr th:only-of-type {\n",
              "        vertical-align: middle;\n",
              "    }\n",
              "\n",
              "    .dataframe tbody tr th {\n",
              "        vertical-align: top;\n",
              "    }\n",
              "\n",
              "    .dataframe thead th {\n",
              "        text-align: right;\n",
              "    }\n",
              "</style>\n",
              "<table border=\"1\" class=\"dataframe\">\n",
              "  <thead>\n",
              "    <tr style=\"text-align: right;\">\n",
              "      <th></th>\n",
              "      <th>Area / State</th>\n",
              "      <th>2012-13</th>\n",
              "    </tr>\n",
              "  </thead>\n",
              "  <tbody>\n",
              "    <tr>\n",
              "      <th>0</th>\n",
              "      <td>Assam</td>\n",
              "      <td>2909.79</td>\n",
              "    </tr>\n",
              "    <tr>\n",
              "      <th>1</th>\n",
              "      <td>Gujarat</td>\n",
              "      <td>2032.09</td>\n",
              "    </tr>\n",
              "    <tr>\n",
              "      <th>2</th>\n",
              "      <td>Andhra Pradesh</td>\n",
              "      <td>1248.55</td>\n",
              "    </tr>\n",
              "    <tr>\n",
              "      <th>3</th>\n",
              "      <td>Tamil Nadu</td>\n",
              "      <td>1206.04</td>\n",
              "    </tr>\n",
              "    <tr>\n",
              "      <th>4</th>\n",
              "      <td>Rajasthan</td>\n",
              "      <td>685.42</td>\n",
              "    </tr>\n",
              "    <tr>\n",
              "      <th>5</th>\n",
              "      <td>Tripura</td>\n",
              "      <td>646.74</td>\n",
              "    </tr>\n",
              "    <tr>\n",
              "      <th>6</th>\n",
              "      <td>West Bengal (CBM)</td>\n",
              "      <td>100.85</td>\n",
              "    </tr>\n",
              "    <tr>\n",
              "      <th>7</th>\n",
              "      <td>Arunachal Pradesh</td>\n",
              "      <td>41.07</td>\n",
              "    </tr>\n",
              "    <tr>\n",
              "      <th>8</th>\n",
              "      <td>Madhya Pradesh (CBM)</td>\n",
              "      <td>3.44</td>\n",
              "    </tr>\n",
              "    <tr>\n",
              "      <th>9</th>\n",
              "      <td>Jharkhand (CBM)</td>\n",
              "      <td>2.95</td>\n",
              "    </tr>\n",
              "  </tbody>\n",
              "</table>\n",
              "</div>"
            ],
            "text/plain": [
              "           Area / State  2012-13\n",
              "0                Assam   2909.79\n",
              "1               Gujarat  2032.09\n",
              "2        Andhra Pradesh  1248.55\n",
              "3           Tamil Nadu   1206.04\n",
              "4             Rajasthan   685.42\n",
              "5               Tripura   646.74\n",
              "6    West Bengal (CBM)    100.85\n",
              "7     Arunachal Pradesh    41.07\n",
              "8  Madhya Pradesh (CBM)     3.44\n",
              "9       Jharkhand (CBM)     2.95"
            ]
          },
          "execution_count": 56,
          "metadata": {},
          "output_type": "execute_result"
        }
      ],
      "source": [
        "gross_production[['Area / State','2012-13']].sort_values(by='2012-13',ascending=False).reset_index().drop(columns='index',axis=0)"
      ]
    },
    {
      "cell_type": "code",
      "execution_count": null,
      "id": "1e265a74",
      "metadata": {
        "id": "1e265a74",
        "outputId": "fddc61a9-2ba1-4690-89f7-25c2ebd0ce63"
      },
      "outputs": [
        {
          "data": {
            "text/html": [
              "<div>\n",
              "<style scoped>\n",
              "    .dataframe tbody tr th:only-of-type {\n",
              "        vertical-align: middle;\n",
              "    }\n",
              "\n",
              "    .dataframe tbody tr th {\n",
              "        vertical-align: top;\n",
              "    }\n",
              "\n",
              "    .dataframe thead th {\n",
              "        text-align: right;\n",
              "    }\n",
              "</style>\n",
              "<table border=\"1\" class=\"dataframe\">\n",
              "  <thead>\n",
              "    <tr style=\"text-align: right;\">\n",
              "      <th></th>\n",
              "      <th>Area / State</th>\n",
              "      <th>2013-14</th>\n",
              "    </tr>\n",
              "  </thead>\n",
              "  <tbody>\n",
              "    <tr>\n",
              "      <th>0</th>\n",
              "      <td>Assam</td>\n",
              "      <td>2868.03</td>\n",
              "    </tr>\n",
              "    <tr>\n",
              "      <th>1</th>\n",
              "      <td>Gujarat</td>\n",
              "      <td>1656.94</td>\n",
              "    </tr>\n",
              "    <tr>\n",
              "      <th>2</th>\n",
              "      <td>Tamil Nadu</td>\n",
              "      <td>1304.02</td>\n",
              "    </tr>\n",
              "    <tr>\n",
              "      <th>3</th>\n",
              "      <td>Andhra Pradesh</td>\n",
              "      <td>1171.34</td>\n",
              "    </tr>\n",
              "    <tr>\n",
              "      <th>4</th>\n",
              "      <td>Rajasthan</td>\n",
              "      <td>982.20</td>\n",
              "    </tr>\n",
              "    <tr>\n",
              "      <th>5</th>\n",
              "      <td>Tripura</td>\n",
              "      <td>822.24</td>\n",
              "    </tr>\n",
              "    <tr>\n",
              "      <th>6</th>\n",
              "      <td>West Bengal (CBM)</td>\n",
              "      <td>156.49</td>\n",
              "    </tr>\n",
              "    <tr>\n",
              "      <th>7</th>\n",
              "      <td>Arunachal Pradesh</td>\n",
              "      <td>41.39</td>\n",
              "    </tr>\n",
              "    <tr>\n",
              "      <th>8</th>\n",
              "      <td>Madhya Pradesh (CBM)</td>\n",
              "      <td>5.65</td>\n",
              "    </tr>\n",
              "    <tr>\n",
              "      <th>9</th>\n",
              "      <td>Jharkhand (CBM)</td>\n",
              "      <td>3.38</td>\n",
              "    </tr>\n",
              "  </tbody>\n",
              "</table>\n",
              "</div>"
            ],
            "text/plain": [
              "           Area / State  2013-14\n",
              "0                Assam   2868.03\n",
              "1               Gujarat  1656.94\n",
              "2           Tamil Nadu   1304.02\n",
              "3        Andhra Pradesh  1171.34\n",
              "4             Rajasthan   982.20\n",
              "5               Tripura   822.24\n",
              "6    West Bengal (CBM)    156.49\n",
              "7     Arunachal Pradesh    41.39\n",
              "8  Madhya Pradesh (CBM)     5.65\n",
              "9       Jharkhand (CBM)     3.38"
            ]
          },
          "execution_count": 57,
          "metadata": {},
          "output_type": "execute_result"
        }
      ],
      "source": [
        "gross_production[['Area / State','2013-14']].sort_values(by='2013-14',ascending=False).reset_index().drop(columns='index',axis=0)"
      ]
    },
    {
      "cell_type": "code",
      "execution_count": null,
      "id": "d961a0c3",
      "metadata": {
        "id": "d961a0c3",
        "outputId": "8b56ea27-e5d6-4732-8079-31e3926d9c96"
      },
      "outputs": [
        {
          "data": {
            "text/html": [
              "<div>\n",
              "<style scoped>\n",
              "    .dataframe tbody tr th:only-of-type {\n",
              "        vertical-align: middle;\n",
              "    }\n",
              "\n",
              "    .dataframe tbody tr th {\n",
              "        vertical-align: top;\n",
              "    }\n",
              "\n",
              "    .dataframe thead th {\n",
              "        text-align: right;\n",
              "    }\n",
              "</style>\n",
              "<table border=\"1\" class=\"dataframe\">\n",
              "  <thead>\n",
              "    <tr style=\"text-align: right;\">\n",
              "      <th></th>\n",
              "      <th>Area / State</th>\n",
              "      <th>2014-15*</th>\n",
              "    </tr>\n",
              "  </thead>\n",
              "  <tbody>\n",
              "    <tr>\n",
              "      <th>0</th>\n",
              "      <td>Assam</td>\n",
              "      <td>2958.25</td>\n",
              "    </tr>\n",
              "    <tr>\n",
              "      <th>1</th>\n",
              "      <td>Gujarat</td>\n",
              "      <td>1525.65</td>\n",
              "    </tr>\n",
              "    <tr>\n",
              "      <th>2</th>\n",
              "      <td>Tamil Nadu</td>\n",
              "      <td>1191.57</td>\n",
              "    </tr>\n",
              "    <tr>\n",
              "      <th>3</th>\n",
              "      <td>Rajasthan</td>\n",
              "      <td>1177.77</td>\n",
              "    </tr>\n",
              "    <tr>\n",
              "      <th>4</th>\n",
              "      <td>Tripura</td>\n",
              "      <td>1140.04</td>\n",
              "    </tr>\n",
              "    <tr>\n",
              "      <th>5</th>\n",
              "      <td>Andhra Pradesh</td>\n",
              "      <td>540.59</td>\n",
              "    </tr>\n",
              "    <tr>\n",
              "      <th>6</th>\n",
              "      <td>West Bengal (CBM)</td>\n",
              "      <td>223.68</td>\n",
              "    </tr>\n",
              "    <tr>\n",
              "      <th>7</th>\n",
              "      <td>Arunachal Pradesh</td>\n",
              "      <td>33.53</td>\n",
              "    </tr>\n",
              "    <tr>\n",
              "      <th>8</th>\n",
              "      <td>Jharkhand (CBM)</td>\n",
              "      <td>2.48</td>\n",
              "    </tr>\n",
              "    <tr>\n",
              "      <th>9</th>\n",
              "      <td>Madhya Pradesh (CBM)</td>\n",
              "      <td>2.08</td>\n",
              "    </tr>\n",
              "  </tbody>\n",
              "</table>\n",
              "</div>"
            ],
            "text/plain": [
              "           Area / State  2014-15*\n",
              "0                Assam    2958.25\n",
              "1               Gujarat   1525.65\n",
              "2           Tamil Nadu    1191.57\n",
              "3             Rajasthan   1177.77\n",
              "4               Tripura   1140.04\n",
              "5        Andhra Pradesh    540.59\n",
              "6    West Bengal (CBM)     223.68\n",
              "7     Arunachal Pradesh     33.53\n",
              "8       Jharkhand (CBM)      2.48\n",
              "9  Madhya Pradesh (CBM)      2.08"
            ]
          },
          "execution_count": 58,
          "metadata": {},
          "output_type": "execute_result"
        }
      ],
      "source": [
        "gross_production[['Area / State','2014-15*']].sort_values(by='2014-15*',ascending=False).reset_index().drop(columns='index',axis=0)"
      ]
    },
    {
      "cell_type": "markdown",
      "id": "ef6da4c2",
      "metadata": {
        "id": "ef6da4c2"
      },
      "source": [
        "Assam, Gujarat have been top 2 gross producers consistently from 2008 to 2015 while Jharkhand and Madhya Pradesh have been bottom 2 gross producers consistently during the same period"
      ]
    },
    {
      "cell_type": "code",
      "execution_count": null,
      "id": "0e8b46f5",
      "metadata": {
        "id": "0e8b46f5",
        "outputId": "61c67849-d72b-42dc-be06-68086fcd409d"
      },
      "outputs": [
        {
          "data": {
            "text/plain": [
              "<Axes: >"
            ]
          },
          "execution_count": 59,
          "metadata": {},
          "output_type": "execute_result"
        },
        {
          "data": {
            "image/png": "[encoded data removed]",
            "text/plain": [
              "<Figure size 640x480 with 1 Axes>"
            ]
          },
          "metadata": {},
          "output_type": "display_data"
        }
      ],
      "source": [
        "gross_production.set_index('Area / State').transpose().plot()"
      ]
    },
    {
      "cell_type": "markdown",
      "id": "cabb1426",
      "metadata": {
        "id": "cabb1426"
      },
      "source": [
        "* Gross production of Assam,Rajasthan, Tripura and Tami Nadu have increased from 2008 to 2015\n",
        "* Gross production of Gujarat and Andhra Pradesh have dropped consistently from 2008 to 2015\n",
        "* Gross production of CBM reserves have stayed almost constant from 2008 to 2015"
      ]
    },
    {
      "cell_type": "markdown",
      "id": "b74bf36c",
      "metadata": {
        "id": "b74bf36c"
      },
      "source": [
        "# Net production"
      ]
    },
    {
      "cell_type": "code",
      "execution_count": null,
      "id": "72cf462a",
      "metadata": {
        "id": "72cf462a",
        "outputId": "6dc5b43d-c238-4a44-8567-283450567e6a"
      },
      "outputs": [
        {
          "data": {
            "text/plain": [
              "<Axes: >"
            ]
          },
          "execution_count": 60,
          "metadata": {},
          "output_type": "execute_result"
        },
        {
          "data": {
            "image/png": "[encoded data removed]",
            "text/plain": [
              "<Figure size 640x480 with 1 Axes>"
            ]
          },
          "metadata": {},
          "output_type": "display_data"
        }
      ],
      "source": [
        "cleaned_data[cleaned_data['Utilisation']=='Net Production (Sales)'].set_index('Area / State').drop(columns='Utilisation').transpose().plot()"
      ]
    },
    {
      "cell_type": "markdown",
      "id": "2615003f",
      "metadata": {
        "id": "2615003f"
      },
      "source": [
        "Except for initial phase of 2008-09, Assam has been the leading state in terms of net production of natural gas"
      ]
    },
    {
      "cell_type": "markdown",
      "id": "38c010ee",
      "metadata": {
        "id": "38c010ee"
      },
      "source": [
        "# Percentage of gas flared"
      ]
    },
    {
      "cell_type": "code",
      "execution_count": null,
      "id": "93e06f88",
      "metadata": {
        "id": "93e06f88",
        "outputId": "88062587-eb85-42bd-dd5a-d8049d6f0050"
      },
      "outputs": [
        {
          "data": {
            "text/plain": [
              "<Axes: >"
            ]
          },
          "execution_count": 61,
          "metadata": {},
          "output_type": "execute_result"
        },
        {
          "data": {
            "image/png": "[encoded data removed]",
            "text/plain": [
              "<Figure size 640x480 with 1 Axes>"
            ]
          },
          "metadata": {},
          "output_type": "display_data"
        }
      ],
      "source": [
        "cleaned_data[cleaned_data['Utilisation']== '% Flared to GP'].set_index('Area / State').drop(columns='Utilisation').transpose().plot()"
      ]
    },
    {
      "cell_type": "markdown",
      "id": "3602e0e3",
      "metadata": {
        "id": "3602e0e3"
      },
      "source": [
        "There has been general decreasing trend in percentage of gas flared. Most of the gas flared has been in CBM reserves at Madhya Pradesh"
      ]
    },
    {
      "cell_type": "markdown",
      "id": "30f79929",
      "metadata": {
        "id": "30f79929"
      },
      "source": [
        "# Volume of gas re-injected"
      ]
    },
    {
      "cell_type": "code",
      "execution_count": null,
      "id": "2c0f4d90",
      "metadata": {
        "id": "2c0f4d90",
        "outputId": "03e23942-3388-4dca-c44e-e7d19827c5a6"
      },
      "outputs": [
        {
          "data": {
            "text/plain": [
              "<Axes: >"
            ]
          },
          "execution_count": 62,
          "metadata": {},
          "output_type": "execute_result"
        },
        {
          "data": {
            "image/png": "[encoded data removed]",
            "text/plain": [
              "<Figure size 640x480 with 1 Axes>"
            ]
          },
          "metadata": {},
          "output_type": "display_data"
        }
      ],
      "source": [
        "cleaned_data[cleaned_data['Utilisation']== 'Re-injected (Internal Use)'].set_index('Area / State').drop(columns='Utilisation').transpose().plot()"
      ]
    },
    {
      "cell_type": "markdown",
      "id": "af2f3315",
      "metadata": {
        "id": "af2f3315"
      },
      "source": [
        "Historically, Assam and Gujarat have been at forefront in terms of volume of gas re-injected into the reservoir. Rajasthan has steadily ramped up its re-injected gas volume since 2009."
      ]
    },
    {
      "cell_type": "markdown",
      "id": "e7e3ce69",
      "metadata": {
        "id": "e7e3ce69"
      },
      "source": [
        "* Assam has been leading the sales of natural gas since mid 2008-09 notwithstanding increased gross production of natural gas in few other states. It has managed to achieve this minimizing flaring of produced gas.\n",
        "* In-terms of gas re-injection, Rajasthan has steadily ramped up since 2009 after discovery of Saraswati and Guda fields in 2008.\n",
        "* Performance of CBM fields in West Bengal, Madhya Pradesh and Jharkhand have been relatively unimpressive as they have a long way to go before they catch up with the major producer states in terms of gas sales as they are flaring most of their gas produced."
      ]
    }
  ],
  "metadata": {
    "kernelspec": {
      "display_name": "Python 3 (ipykernel)",
      "language": "python",
      "name": "python3"
    },
    "language_info": {
      "codemirror_mode": {
        "name": "ipython",
        "version": 3
      },
      "file_extension": ".py",
      "mimetype": "text/x-python",
      "name": "python",
      "nbconvert_exporter": "python",
      "pygments_lexer": "ipython3",
      "version": "3.10.9"
    },
    "colab": {
      "provenance": []
    }
  },
  "nbformat": 4,
  "nbformat_minor": 5
}