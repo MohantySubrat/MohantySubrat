{
  "nbformat": 4,
  "nbformat_minor": 0,
  "metadata": {
    "colab": {
      "provenance": [],
      "authorship_tag": "ABX9TyO9Hk9iGyXSYZ3kc7VdMQMQ"
    },
    "kernelspec": {
      "name": "python3",
      "display_name": "Python 3"
    },
    "language_info": {
      "name": "python"
    }
  },
  "cells": [
    {
      "cell_type": "code",
      "execution_count": 93,
      "metadata": {
        "id": "LyZ-FkxsnNW4"
      },
      "outputs": [],
      "source": [
        "import pandas as pd\n",
        "import numpy as np"
      ]
    },
    {
      "cell_type": "code",
      "source": [
        "data = pd.read_csv('https://corgis-edu.github.io/corgis/datasets/csv/weather/weather.csv') #importing data"
      ],
      "metadata": {
        "id": "MaHTa_W5nRCp"
      },
      "execution_count": 94,
      "outputs": []
    },
    {
      "cell_type": "code",
      "source": [
        "data.head() #checking data"
      ],
      "metadata": {
        "colab": {
          "base_uri": "https://localhost:8080/",
          "height": 374
        },
        "id": "AjJYQkHAnWK-",
        "outputId": "a2e53a7b-e030-430d-b73e-8d631f4c4e63"
      },
      "execution_count": 95,
      "outputs": [
        {
          "output_type": "execute_result",
          "data": {
            "text/plain": [
              "   Data.Precipitation   Date.Full  Date.Month  Date.Week of  Date.Year  \\\n",
              "0                0.00  2016-01-03           1             3       2016   \n",
              "1                0.00  2016-01-03           1             3       2016   \n",
              "2                0.16  2016-01-03           1             3       2016   \n",
              "3                0.00  2016-01-03           1             3       2016   \n",
              "4                0.01  2016-01-03           1             3       2016   \n",
              "\n",
              "  Station.City Station.Code Station.Location Station.State  \\\n",
              "0   Birmingham          BHM   Birmingham, AL       Alabama   \n",
              "1   Huntsville          HSV   Huntsville, AL       Alabama   \n",
              "2       Mobile          MOB       Mobile, AL       Alabama   \n",
              "3   Montgomery          MGM   Montgomery, AL       Alabama   \n",
              "4    Anchorage          ANC    Anchorage, AK        Alaska   \n",
              "\n",
              "   Data.Temperature.Avg Temp  Data.Temperature.Max Temp  \\\n",
              "0                         39                         46   \n",
              "1                         39                         47   \n",
              "2                         46                         51   \n",
              "3                         45                         52   \n",
              "4                         34                         38   \n",
              "\n",
              "   Data.Temperature.Min Temp  Data.Wind.Direction  Data.Wind.Speed  \n",
              "0                         32                   33             4.33  \n",
              "1                         31                   32             3.86  \n",
              "2                         41                   35             9.73  \n",
              "3                         38                   32             6.86  \n",
              "4                         29                   19             7.80  "
            ],
            "text/html": [
              "\n",
              "  <div id=\"df-4def6fa7-b292-457f-97c5-48dc516877a2\">\n",
              "    <div class=\"colab-df-container\">\n",
              "      <div>\n",
              "<style scoped>\n",
              "    .dataframe tbody tr th:only-of-type {\n",
              "        vertical-align: middle;\n",
              "    }\n",
              "\n",
              "    .dataframe tbody tr th {\n",
              "        vertical-align: top;\n",
              "    }\n",
              "\n",
              "    .dataframe thead th {\n",
              "        text-align: right;\n",
              "    }\n",
              "</style>\n",
              "<table border=\"1\" class=\"dataframe\">\n",
              "  <thead>\n",
              "    <tr style=\"text-align: right;\">\n",
              "      <th></th>\n",
              "      <th>Data.Precipitation</th>\n",
              "      <th>Date.Full</th>\n",
              "      <th>Date.Month</th>\n",
              "      <th>Date.Week of</th>\n",
              "      <th>Date.Year</th>\n",
              "      <th>Station.City</th>\n",
              "      <th>Station.Code</th>\n",
              "      <th>Station.Location</th>\n",
              "      <th>Station.State</th>\n",
              "      <th>Data.Temperature.Avg Temp</th>\n",
              "      <th>Data.Temperature.Max Temp</th>\n",
              "      <th>Data.Temperature.Min Temp</th>\n",
              "      <th>Data.Wind.Direction</th>\n",
              "      <th>Data.Wind.Speed</th>\n",
              "    </tr>\n",
              "  </thead>\n",
              "  <tbody>\n",
              "    <tr>\n",
              "      <th>0</th>\n",
              "      <td>0.00</td>\n",
              "      <td>2016-01-03</td>\n",
              "      <td>1</td>\n",
              "      <td>3</td>\n",
              "      <td>2016</td>\n",
              "      <td>Birmingham</td>\n",
              "      <td>BHM</td>\n",
              "      <td>Birmingham, AL</td>\n",
              "      <td>Alabama</td>\n",
              "      <td>39</td>\n",
              "      <td>46</td>\n",
              "      <td>32</td>\n",
              "      <td>33</td>\n",
              "      <td>4.33</td>\n",
              "    </tr>\n",
              "    <tr>\n",
              "      <th>1</th>\n",
              "      <td>0.00</td>\n",
              "      <td>2016-01-03</td>\n",
              "      <td>1</td>\n",
              "      <td>3</td>\n",
              "      <td>2016</td>\n",
              "      <td>Huntsville</td>\n",
              "      <td>HSV</td>\n",
              "      <td>Huntsville, AL</td>\n",
              "      <td>Alabama</td>\n",
              "      <td>39</td>\n",
              "      <td>47</td>\n",
              "      <td>31</td>\n",
              "      <td>32</td>\n",
              "      <td>3.86</td>\n",
              "    </tr>\n",
              "    <tr>\n",
              "      <th>2</th>\n",
              "      <td>0.16</td>\n",
              "      <td>2016-01-03</td>\n",
              "      <td>1</td>\n",
              "      <td>3</td>\n",
              "      <td>2016</td>\n",
              "      <td>Mobile</td>\n",
              "      <td>MOB</td>\n",
              "      <td>Mobile, AL</td>\n",
              "      <td>Alabama</td>\n",
              "      <td>46</td>\n",
              "      <td>51</td>\n",
              "      <td>41</td>\n",
              "      <td>35</td>\n",
              "      <td>9.73</td>\n",
              "    </tr>\n",
              "    <tr>\n",
              "      <th>3</th>\n",
              "      <td>0.00</td>\n",
              "      <td>2016-01-03</td>\n",
              "      <td>1</td>\n",
              "      <td>3</td>\n",
              "      <td>2016</td>\n",
              "      <td>Montgomery</td>\n",
              "      <td>MGM</td>\n",
              "      <td>Montgomery, AL</td>\n",
              "      <td>Alabama</td>\n",
              "      <td>45</td>\n",
              "      <td>52</td>\n",
              "      <td>38</td>\n",
              "      <td>32</td>\n",
              "      <td>6.86</td>\n",
              "    </tr>\n",
              "    <tr>\n",
              "      <th>4</th>\n",
              "      <td>0.01</td>\n",
              "      <td>2016-01-03</td>\n",
              "      <td>1</td>\n",
              "      <td>3</td>\n",
              "      <td>2016</td>\n",
              "      <td>Anchorage</td>\n",
              "      <td>ANC</td>\n",
              "      <td>Anchorage, AK</td>\n",
              "      <td>Alaska</td>\n",
              "      <td>34</td>\n",
              "      <td>38</td>\n",
              "      <td>29</td>\n",
              "      <td>19</td>\n",
              "      <td>7.80</td>\n",
              "    </tr>\n",
              "  </tbody>\n",
              "</table>\n",
              "</div>\n",
              "      <button class=\"colab-df-convert\" onclick=\"convertToInteractive('df-4def6fa7-b292-457f-97c5-48dc516877a2')\"\n",
              "              title=\"Convert this dataframe to an interactive table.\"\n",
              "              style=\"display:none;\">\n",
              "        \n",
              "  <svg xmlns=\"http://www.w3.org/2000/svg\" height=\"24px\"viewBox=\"0 0 24 24\"\n",
              "       width=\"24px\">\n",
              "    <path d=\"M0 0h24v24H0V0z\" fill=\"none\"/>\n",
              "    <path d=\"M18.56 5.44l.94 2.06.94-2.06 2.06-.94-2.06-.94-.94-2.06-.94 2.06-2.06.94zm-11 1L8.5 8.5l.94-2.06 2.06-.94-2.06-.94L8.5 2.5l-.94 2.06-2.06.94zm10 10l.94 2.06.94-2.06 2.06-.94-2.06-.94-.94-2.06-.94 2.06-2.06.94z\"/><path d=\"M17.41 7.96l-1.37-1.37c-.4-.4-.92-.59-1.43-.59-.52 0-1.04.2-1.43.59L10.3 9.45l-7.72 7.72c-.78.78-.78 2.05 0 2.83L4 21.41c.39.39.9.59 1.41.59.51 0 1.02-.2 1.41-.59l7.78-7.78 2.81-2.81c.8-.78.8-2.07 0-2.86zM5.41 20L4 18.59l7.72-7.72 1.47 1.35L5.41 20z\"/>\n",
              "  </svg>\n",
              "      </button>\n",
              "      \n",
              "  <style>\n",
              "    .colab-df-container {\n",
              "      display:flex;\n",
              "      flex-wrap:wrap;\n",
              "      gap: 12px;\n",
              "    }\n",
              "\n",
              "    .colab-df-convert {\n",
              "      background-color: #E8F0FE;\n",
              "      border: none;\n",
              "      border-radius: 50%;\n",
              "      cursor: pointer;\n",
              "      display: none;\n",
              "      fill: #1967D2;\n",
              "      height: 32px;\n",
              "      padding: 0 0 0 0;\n",
              "      width: 32px;\n",
              "    }\n",
              "\n",
              "    .colab-df-convert:hover {\n",
              "      background-color: #E2EBFA;\n",
              "      box-shadow: 0px 1px 2px rgba(60, 64, 67, 0.3), 0px 1px 3px 1px rgba(60, 64, 67, 0.15);\n",
              "      fill: #174EA6;\n",
              "    }\n",
              "\n",
              "    [theme=dark] .colab-df-convert {\n",
              "      background-color: #3B4455;\n",
              "      fill: #D2E3FC;\n",
              "    }\n",
              "\n",
              "    [theme=dark] .colab-df-convert:hover {\n",
              "      background-color: #434B5C;\n",
              "      box-shadow: 0px 1px 3px 1px rgba(0, 0, 0, 0.15);\n",
              "      filter: drop-shadow(0px 1px 2px rgba(0, 0, 0, 0.3));\n",
              "      fill: #FFFFFF;\n",
              "    }\n",
              "  </style>\n",
              "\n",
              "      <script>\n",
              "        const buttonEl =\n",
              "          document.querySelector('#df-4def6fa7-b292-457f-97c5-48dc516877a2 button.colab-df-convert');\n",
              "        buttonEl.style.display =\n",
              "          google.colab.kernel.accessAllowed ? 'block' : 'none';\n",
              "\n",
              "        async function convertToInteractive(key) {\n",
              "          const element = document.querySelector('#df-4def6fa7-b292-457f-97c5-48dc516877a2');\n",
              "          const dataTable =\n",
              "            await google.colab.kernel.invokeFunction('convertToInteractive',\n",
              "                                                     [key], {});\n",
              "          if (!dataTable) return;\n",
              "\n",
              "          const docLinkHtml = 'Like what you see? Visit the ' +\n",
              "            '<a target=\"_blank\" href=https://colab.research.google.com/notebooks/data_table.ipynb>data table notebook</a>'\n",
              "            + ' to learn more about interactive tables.';\n",
              "          element.innerHTML = '';\n",
              "          dataTable['output_type'] = 'display_data';\n",
              "          await google.colab.output.renderOutput(dataTable, element);\n",
              "          const docLink = document.createElement('div');\n",
              "          docLink.innerHTML = docLinkHtml;\n",
              "          element.appendChild(docLink);\n",
              "        }\n",
              "      </script>\n",
              "    </div>\n",
              "  </div>\n",
              "  "
            ]
          },
          "metadata": {},
          "execution_count": 95
        }
      ]
    },
    {
      "cell_type": "markdown",
      "source": [
        "## Getting basic information about the data"
      ],
      "metadata": {
        "id": "tB9nXdvTopEe"
      }
    },
    {
      "cell_type": "code",
      "source": [
        "data.info()"
      ],
      "metadata": {
        "colab": {
          "base_uri": "https://localhost:8080/"
        },
        "id": "IAmeOHE9nyTC",
        "outputId": "5cb5640b-ad06-441d-c112-cb68aaa48b3e"
      },
      "execution_count": 96,
      "outputs": [
        {
          "output_type": "stream",
          "name": "stdout",
          "text": [
            "<class 'pandas.core.frame.DataFrame'>\n",
            "RangeIndex: 16743 entries, 0 to 16742\n",
            "Data columns (total 14 columns):\n",
            " #   Column                     Non-Null Count  Dtype  \n",
            "---  ------                     --------------  -----  \n",
            " 0   Data.Precipitation         16743 non-null  float64\n",
            " 1   Date.Full                  16743 non-null  object \n",
            " 2   Date.Month                 16743 non-null  int64  \n",
            " 3   Date.Week of               16743 non-null  int64  \n",
            " 4   Date.Year                  16743 non-null  int64  \n",
            " 5   Station.City               16743 non-null  object \n",
            " 6   Station.Code               16743 non-null  object \n",
            " 7   Station.Location           16743 non-null  object \n",
            " 8   Station.State              16743 non-null  object \n",
            " 9   Data.Temperature.Avg Temp  16743 non-null  int64  \n",
            " 10  Data.Temperature.Max Temp  16743 non-null  int64  \n",
            " 11  Data.Temperature.Min Temp  16743 non-null  int64  \n",
            " 12  Data.Wind.Direction        16743 non-null  int64  \n",
            " 13  Data.Wind.Speed            16743 non-null  float64\n",
            "dtypes: float64(2), int64(7), object(5)\n",
            "memory usage: 1.8+ MB\n"
          ]
        }
      ]
    },
    {
      "cell_type": "code",
      "source": [
        "data.isnull().sum()"
      ],
      "metadata": {
        "colab": {
          "base_uri": "https://localhost:8080/"
        },
        "id": "gZNd3Pb7n66H",
        "outputId": "a3796c85-7b49-492f-f5d7-1880aadd8661"
      },
      "execution_count": 97,
      "outputs": [
        {
          "output_type": "execute_result",
          "data": {
            "text/plain": [
              "Data.Precipitation           0\n",
              "Date.Full                    0\n",
              "Date.Month                   0\n",
              "Date.Week of                 0\n",
              "Date.Year                    0\n",
              "Station.City                 0\n",
              "Station.Code                 0\n",
              "Station.Location             0\n",
              "Station.State                0\n",
              "Data.Temperature.Avg Temp    0\n",
              "Data.Temperature.Max Temp    0\n",
              "Data.Temperature.Min Temp    0\n",
              "Data.Wind.Direction          0\n",
              "Data.Wind.Speed              0\n",
              "dtype: int64"
            ]
          },
          "metadata": {},
          "execution_count": 97
        }
      ]
    },
    {
      "cell_type": "code",
      "source": [
        "data.shape"
      ],
      "metadata": {
        "colab": {
          "base_uri": "https://localhost:8080/"
        },
        "id": "pPcyOBUbn9sM",
        "outputId": "445d9006-118c-41c0-edcf-800261fe7617"
      },
      "execution_count": 98,
      "outputs": [
        {
          "output_type": "execute_result",
          "data": {
            "text/plain": [
              "(16743, 14)"
            ]
          },
          "metadata": {},
          "execution_count": 98
        }
      ]
    },
    {
      "cell_type": "code",
      "source": [
        "data.dtypes"
      ],
      "metadata": {
        "colab": {
          "base_uri": "https://localhost:8080/"
        },
        "id": "VsBpK5aNoEV2",
        "outputId": "c105565b-587d-45c4-b585-554bb47deb52"
      },
      "execution_count": 99,
      "outputs": [
        {
          "output_type": "execute_result",
          "data": {
            "text/plain": [
              "Data.Precipitation           float64\n",
              "Date.Full                     object\n",
              "Date.Month                     int64\n",
              "Date.Week of                   int64\n",
              "Date.Year                      int64\n",
              "Station.City                  object\n",
              "Station.Code                  object\n",
              "Station.Location              object\n",
              "Station.State                 object\n",
              "Data.Temperature.Avg Temp      int64\n",
              "Data.Temperature.Max Temp      int64\n",
              "Data.Temperature.Min Temp      int64\n",
              "Data.Wind.Direction            int64\n",
              "Data.Wind.Speed              float64\n",
              "dtype: object"
            ]
          },
          "metadata": {},
          "execution_count": 99
        }
      ]
    },
    {
      "cell_type": "code",
      "source": [
        "data.size"
      ],
      "metadata": {
        "colab": {
          "base_uri": "https://localhost:8080/"
        },
        "id": "OYD9PsouoJKL",
        "outputId": "d9059a1b-9258-4730-a8ce-ffb5b4730839"
      },
      "execution_count": 100,
      "outputs": [
        {
          "output_type": "execute_result",
          "data": {
            "text/plain": [
              "234402"
            ]
          },
          "metadata": {},
          "execution_count": 100
        }
      ]
    },
    {
      "cell_type": "code",
      "source": [
        "data.columns"
      ],
      "metadata": {
        "colab": {
          "base_uri": "https://localhost:8080/"
        },
        "id": "VCqNBFJsoMIT",
        "outputId": "6e6384cc-6a92-4762-d9ed-04d0962167f4"
      },
      "execution_count": 101,
      "outputs": [
        {
          "output_type": "execute_result",
          "data": {
            "text/plain": [
              "Index(['Data.Precipitation', 'Date.Full', 'Date.Month', 'Date.Week of',\n",
              "       'Date.Year', 'Station.City', 'Station.Code', 'Station.Location',\n",
              "       'Station.State', 'Data.Temperature.Avg Temp',\n",
              "       'Data.Temperature.Max Temp', 'Data.Temperature.Min Temp',\n",
              "       'Data.Wind.Direction', 'Data.Wind.Speed'],\n",
              "      dtype='object')"
            ]
          },
          "metadata": {},
          "execution_count": 101
        }
      ]
    },
    {
      "cell_type": "markdown",
      "source": [
        "## Analyzing data"
      ],
      "metadata": {
        "id": "WW4RZEJFo9jl"
      }
    },
    {
      "cell_type": "code",
      "source": [
        "data.describe()"
      ],
      "metadata": {
        "colab": {
          "base_uri": "https://localhost:8080/",
          "height": 382
        },
        "id": "0-ve4ZBZo_uR",
        "outputId": "fabc267a-b076-4a07-ea67-e81d176f07bd"
      },
      "execution_count": 102,
      "outputs": [
        {
          "output_type": "execute_result",
          "data": {
            "text/plain": [
              "       Data.Precipitation    Date.Month  Date.Week of     Date.Year  \\\n",
              "count        16743.000000  16743.000000  16743.000000  16743.000000   \n",
              "mean             0.579090      6.343128     15.650242   2016.018933   \n",
              "std              0.988057      3.490723      8.923425      0.136294   \n",
              "min              0.000000      1.000000      1.000000   2016.000000   \n",
              "25%              0.000000      3.000000      8.000000   2016.000000   \n",
              "50%              0.190000      6.000000     16.000000   2016.000000   \n",
              "75%              0.750000      9.000000     24.000000   2016.000000   \n",
              "max             20.890000     12.000000     31.000000   2017.000000   \n",
              "\n",
              "       Data.Temperature.Avg Temp  Data.Temperature.Max Temp  \\\n",
              "count               16743.000000               16743.000000   \n",
              "mean                   56.089112                  66.042406   \n",
              "std                    18.798295                  19.787954   \n",
              "min                   -27.000000                 -19.000000   \n",
              "25%                    44.000000                  53.000000   \n",
              "50%                    58.000000                  68.000000   \n",
              "75%                    71.000000                  82.000000   \n",
              "max                   100.000000                 111.000000   \n",
              "\n",
              "       Data.Temperature.Min Temp  Data.Wind.Direction  Data.Wind.Speed  \n",
              "count               16743.000000         16743.000000     16743.000000  \n",
              "mean                   45.642716            18.791316         6.329820  \n",
              "std                    18.559263             6.461527         3.494785  \n",
              "min                   -35.000000             0.000000         0.000000  \n",
              "25%                    33.000000            15.000000         4.040000  \n",
              "50%                    47.000000            19.000000         5.940000  \n",
              "75%                    60.000000            23.000000         8.080000  \n",
              "max                    88.000000            36.000000        61.100000  "
            ],
            "text/html": [
              "\n",
              "  <div id=\"df-9c4d0cbc-09ea-4bcd-83e2-58e511a4a55c\">\n",
              "    <div class=\"colab-df-container\">\n",
              "      <div>\n",
              "<style scoped>\n",
              "    .dataframe tbody tr th:only-of-type {\n",
              "        vertical-align: middle;\n",
              "    }\n",
              "\n",
              "    .dataframe tbody tr th {\n",
              "        vertical-align: top;\n",
              "    }\n",
              "\n",
              "    .dataframe thead th {\n",
              "        text-align: right;\n",
              "    }\n",
              "</style>\n",
              "<table border=\"1\" class=\"dataframe\">\n",
              "  <thead>\n",
              "    <tr style=\"text-align: right;\">\n",
              "      <th></th>\n",
              "      <th>Data.Precipitation</th>\n",
              "      <th>Date.Month</th>\n",
              "      <th>Date.Week of</th>\n",
              "      <th>Date.Year</th>\n",
              "      <th>Data.Temperature.Avg Temp</th>\n",
              "      <th>Data.Temperature.Max Temp</th>\n",
              "      <th>Data.Temperature.Min Temp</th>\n",
              "      <th>Data.Wind.Direction</th>\n",
              "      <th>Data.Wind.Speed</th>\n",
              "    </tr>\n",
              "  </thead>\n",
              "  <tbody>\n",
              "    <tr>\n",
              "      <th>count</th>\n",
              "      <td>16743.000000</td>\n",
              "      <td>16743.000000</td>\n",
              "      <td>16743.000000</td>\n",
              "      <td>16743.000000</td>\n",
              "      <td>16743.000000</td>\n",
              "      <td>16743.000000</td>\n",
              "      <td>16743.000000</td>\n",
              "      <td>16743.000000</td>\n",
              "      <td>16743.000000</td>\n",
              "    </tr>\n",
              "    <tr>\n",
              "      <th>mean</th>\n",
              "      <td>0.579090</td>\n",
              "      <td>6.343128</td>\n",
              "      <td>15.650242</td>\n",
              "      <td>2016.018933</td>\n",
              "      <td>56.089112</td>\n",
              "      <td>66.042406</td>\n",
              "      <td>45.642716</td>\n",
              "      <td>18.791316</td>\n",
              "      <td>6.329820</td>\n",
              "    </tr>\n",
              "    <tr>\n",
              "      <th>std</th>\n",
              "      <td>0.988057</td>\n",
              "      <td>3.490723</td>\n",
              "      <td>8.923425</td>\n",
              "      <td>0.136294</td>\n",
              "      <td>18.798295</td>\n",
              "      <td>19.787954</td>\n",
              "      <td>18.559263</td>\n",
              "      <td>6.461527</td>\n",
              "      <td>3.494785</td>\n",
              "    </tr>\n",
              "    <tr>\n",
              "      <th>min</th>\n",
              "      <td>0.000000</td>\n",
              "      <td>1.000000</td>\n",
              "      <td>1.000000</td>\n",
              "      <td>2016.000000</td>\n",
              "      <td>-27.000000</td>\n",
              "      <td>-19.000000</td>\n",
              "      <td>-35.000000</td>\n",
              "      <td>0.000000</td>\n",
              "      <td>0.000000</td>\n",
              "    </tr>\n",
              "    <tr>\n",
              "      <th>25%</th>\n",
              "      <td>0.000000</td>\n",
              "      <td>3.000000</td>\n",
              "      <td>8.000000</td>\n",
              "      <td>2016.000000</td>\n",
              "      <td>44.000000</td>\n",
              "      <td>53.000000</td>\n",
              "      <td>33.000000</td>\n",
              "      <td>15.000000</td>\n",
              "      <td>4.040000</td>\n",
              "    </tr>\n",
              "    <tr>\n",
              "      <th>50%</th>\n",
              "      <td>0.190000</td>\n",
              "      <td>6.000000</td>\n",
              "      <td>16.000000</td>\n",
              "      <td>2016.000000</td>\n",
              "      <td>58.000000</td>\n",
              "      <td>68.000000</td>\n",
              "      <td>47.000000</td>\n",
              "      <td>19.000000</td>\n",
              "      <td>5.940000</td>\n",
              "    </tr>\n",
              "    <tr>\n",
              "      <th>75%</th>\n",
              "      <td>0.750000</td>\n",
              "      <td>9.000000</td>\n",
              "      <td>24.000000</td>\n",
              "      <td>2016.000000</td>\n",
              "      <td>71.000000</td>\n",
              "      <td>82.000000</td>\n",
              "      <td>60.000000</td>\n",
              "      <td>23.000000</td>\n",
              "      <td>8.080000</td>\n",
              "    </tr>\n",
              "    <tr>\n",
              "      <th>max</th>\n",
              "      <td>20.890000</td>\n",
              "      <td>12.000000</td>\n",
              "      <td>31.000000</td>\n",
              "      <td>2017.000000</td>\n",
              "      <td>100.000000</td>\n",
              "      <td>111.000000</td>\n",
              "      <td>88.000000</td>\n",
              "      <td>36.000000</td>\n",
              "      <td>61.100000</td>\n",
              "    </tr>\n",
              "  </tbody>\n",
              "</table>\n",
              "</div>\n",
              "      <button class=\"colab-df-convert\" onclick=\"convertToInteractive('df-9c4d0cbc-09ea-4bcd-83e2-58e511a4a55c')\"\n",
              "              title=\"Convert this dataframe to an interactive table.\"\n",
              "              style=\"display:none;\">\n",
              "        \n",
              "  <svg xmlns=\"http://www.w3.org/2000/svg\" height=\"24px\"viewBox=\"0 0 24 24\"\n",
              "       width=\"24px\">\n",
              "    <path d=\"M0 0h24v24H0V0z\" fill=\"none\"/>\n",
              "    <path d=\"M18.56 5.44l.94 2.06.94-2.06 2.06-.94-2.06-.94-.94-2.06-.94 2.06-2.06.94zm-11 1L8.5 8.5l.94-2.06 2.06-.94-2.06-.94L8.5 2.5l-.94 2.06-2.06.94zm10 10l.94 2.06.94-2.06 2.06-.94-2.06-.94-.94-2.06-.94 2.06-2.06.94z\"/><path d=\"M17.41 7.96l-1.37-1.37c-.4-.4-.92-.59-1.43-.59-.52 0-1.04.2-1.43.59L10.3 9.45l-7.72 7.72c-.78.78-.78 2.05 0 2.83L4 21.41c.39.39.9.59 1.41.59.51 0 1.02-.2 1.41-.59l7.78-7.78 2.81-2.81c.8-.78.8-2.07 0-2.86zM5.41 20L4 18.59l7.72-7.72 1.47 1.35L5.41 20z\"/>\n",
              "  </svg>\n",
              "      </button>\n",
              "      \n",
              "  <style>\n",
              "    .colab-df-container {\n",
              "      display:flex;\n",
              "      flex-wrap:wrap;\n",
              "      gap: 12px;\n",
              "    }\n",
              "\n",
              "    .colab-df-convert {\n",
              "      background-color: #E8F0FE;\n",
              "      border: none;\n",
              "      border-radius: 50%;\n",
              "      cursor: pointer;\n",
              "      display: none;\n",
              "      fill: #1967D2;\n",
              "      height: 32px;\n",
              "      padding: 0 0 0 0;\n",
              "      width: 32px;\n",
              "    }\n",
              "\n",
              "    .colab-df-convert:hover {\n",
              "      background-color: #E2EBFA;\n",
              "      box-shadow: 0px 1px 2px rgba(60, 64, 67, 0.3), 0px 1px 3px 1px rgba(60, 64, 67, 0.15);\n",
              "      fill: #174EA6;\n",
              "    }\n",
              "\n",
              "    [theme=dark] .colab-df-convert {\n",
              "      background-color: #3B4455;\n",
              "      fill: #D2E3FC;\n",
              "    }\n",
              "\n",
              "    [theme=dark] .colab-df-convert:hover {\n",
              "      background-color: #434B5C;\n",
              "      box-shadow: 0px 1px 3px 1px rgba(0, 0, 0, 0.15);\n",
              "      filter: drop-shadow(0px 1px 2px rgba(0, 0, 0, 0.3));\n",
              "      fill: #FFFFFF;\n",
              "    }\n",
              "  </style>\n",
              "\n",
              "      <script>\n",
              "        const buttonEl =\n",
              "          document.querySelector('#df-9c4d0cbc-09ea-4bcd-83e2-58e511a4a55c button.colab-df-convert');\n",
              "        buttonEl.style.display =\n",
              "          google.colab.kernel.accessAllowed ? 'block' : 'none';\n",
              "\n",
              "        async function convertToInteractive(key) {\n",
              "          const element = document.querySelector('#df-9c4d0cbc-09ea-4bcd-83e2-58e511a4a55c');\n",
              "          const dataTable =\n",
              "            await google.colab.kernel.invokeFunction('convertToInteractive',\n",
              "                                                     [key], {});\n",
              "          if (!dataTable) return;\n",
              "\n",
              "          const docLinkHtml = 'Like what you see? Visit the ' +\n",
              "            '<a target=\"_blank\" href=https://colab.research.google.com/notebooks/data_table.ipynb>data table notebook</a>'\n",
              "            + ' to learn more about interactive tables.';\n",
              "          element.innerHTML = '';\n",
              "          dataTable['output_type'] = 'display_data';\n",
              "          await google.colab.output.renderOutput(dataTable, element);\n",
              "          const docLink = document.createElement('div');\n",
              "          docLink.innerHTML = docLinkHtml;\n",
              "          element.appendChild(docLink);\n",
              "        }\n",
              "      </script>\n",
              "    </div>\n",
              "  </div>\n",
              "  "
            ]
          },
          "metadata": {},
          "execution_count": 102
        }
      ]
    },
    {
      "cell_type": "code",
      "source": [
        "data.describe(include='object')"
      ],
      "metadata": {
        "colab": {
          "base_uri": "https://localhost:8080/",
          "height": 175
        },
        "id": "IoA2jhOopZ-B",
        "outputId": "1944f9f4-a924-4eee-94bb-50880a9b97f9"
      },
      "execution_count": 103,
      "outputs": [
        {
          "output_type": "execute_result",
          "data": {
            "text/plain": [
              "         Date.Full Station.City Station.Code Station.Location Station.State\n",
              "count        16743        16743        16743            16743         16743\n",
              "unique          53          307          318              318            53\n",
              "top     2017-01-01      Norfolk          BHM   Birmingham, AL        Alaska\n",
              "freq           317          106           53               53          1719"
            ],
            "text/html": [
              "\n",
              "  <div id=\"df-473e2135-4d56-4245-86ee-e2bddd074c6f\">\n",
              "    <div class=\"colab-df-container\">\n",
              "      <div>\n",
              "<style scoped>\n",
              "    .dataframe tbody tr th:only-of-type {\n",
              "        vertical-align: middle;\n",
              "    }\n",
              "\n",
              "    .dataframe tbody tr th {\n",
              "        vertical-align: top;\n",
              "    }\n",
              "\n",
              "    .dataframe thead th {\n",
              "        text-align: right;\n",
              "    }\n",
              "</style>\n",
              "<table border=\"1\" class=\"dataframe\">\n",
              "  <thead>\n",
              "    <tr style=\"text-align: right;\">\n",
              "      <th></th>\n",
              "      <th>Date.Full</th>\n",
              "      <th>Station.City</th>\n",
              "      <th>Station.Code</th>\n",
              "      <th>Station.Location</th>\n",
              "      <th>Station.State</th>\n",
              "    </tr>\n",
              "  </thead>\n",
              "  <tbody>\n",
              "    <tr>\n",
              "      <th>count</th>\n",
              "      <td>16743</td>\n",
              "      <td>16743</td>\n",
              "      <td>16743</td>\n",
              "      <td>16743</td>\n",
              "      <td>16743</td>\n",
              "    </tr>\n",
              "    <tr>\n",
              "      <th>unique</th>\n",
              "      <td>53</td>\n",
              "      <td>307</td>\n",
              "      <td>318</td>\n",
              "      <td>318</td>\n",
              "      <td>53</td>\n",
              "    </tr>\n",
              "    <tr>\n",
              "      <th>top</th>\n",
              "      <td>2017-01-01</td>\n",
              "      <td>Norfolk</td>\n",
              "      <td>BHM</td>\n",
              "      <td>Birmingham, AL</td>\n",
              "      <td>Alaska</td>\n",
              "    </tr>\n",
              "    <tr>\n",
              "      <th>freq</th>\n",
              "      <td>317</td>\n",
              "      <td>106</td>\n",
              "      <td>53</td>\n",
              "      <td>53</td>\n",
              "      <td>1719</td>\n",
              "    </tr>\n",
              "  </tbody>\n",
              "</table>\n",
              "</div>\n",
              "      <button class=\"colab-df-convert\" onclick=\"convertToInteractive('df-473e2135-4d56-4245-86ee-e2bddd074c6f')\"\n",
              "              title=\"Convert this dataframe to an interactive table.\"\n",
              "              style=\"display:none;\">\n",
              "        \n",
              "  <svg xmlns=\"http://www.w3.org/2000/svg\" height=\"24px\"viewBox=\"0 0 24 24\"\n",
              "       width=\"24px\">\n",
              "    <path d=\"M0 0h24v24H0V0z\" fill=\"none\"/>\n",
              "    <path d=\"M18.56 5.44l.94 2.06.94-2.06 2.06-.94-2.06-.94-.94-2.06-.94 2.06-2.06.94zm-11 1L8.5 8.5l.94-2.06 2.06-.94-2.06-.94L8.5 2.5l-.94 2.06-2.06.94zm10 10l.94 2.06.94-2.06 2.06-.94-2.06-.94-.94-2.06-.94 2.06-2.06.94z\"/><path d=\"M17.41 7.96l-1.37-1.37c-.4-.4-.92-.59-1.43-.59-.52 0-1.04.2-1.43.59L10.3 9.45l-7.72 7.72c-.78.78-.78 2.05 0 2.83L4 21.41c.39.39.9.59 1.41.59.51 0 1.02-.2 1.41-.59l7.78-7.78 2.81-2.81c.8-.78.8-2.07 0-2.86zM5.41 20L4 18.59l7.72-7.72 1.47 1.35L5.41 20z\"/>\n",
              "  </svg>\n",
              "      </button>\n",
              "      \n",
              "  <style>\n",
              "    .colab-df-container {\n",
              "      display:flex;\n",
              "      flex-wrap:wrap;\n",
              "      gap: 12px;\n",
              "    }\n",
              "\n",
              "    .colab-df-convert {\n",
              "      background-color: #E8F0FE;\n",
              "      border: none;\n",
              "      border-radius: 50%;\n",
              "      cursor: pointer;\n",
              "      display: none;\n",
              "      fill: #1967D2;\n",
              "      height: 32px;\n",
              "      padding: 0 0 0 0;\n",
              "      width: 32px;\n",
              "    }\n",
              "\n",
              "    .colab-df-convert:hover {\n",
              "      background-color: #E2EBFA;\n",
              "      box-shadow: 0px 1px 2px rgba(60, 64, 67, 0.3), 0px 1px 3px 1px rgba(60, 64, 67, 0.15);\n",
              "      fill: #174EA6;\n",
              "    }\n",
              "\n",
              "    [theme=dark] .colab-df-convert {\n",
              "      background-color: #3B4455;\n",
              "      fill: #D2E3FC;\n",
              "    }\n",
              "\n",
              "    [theme=dark] .colab-df-convert:hover {\n",
              "      background-color: #434B5C;\n",
              "      box-shadow: 0px 1px 3px 1px rgba(0, 0, 0, 0.15);\n",
              "      filter: drop-shadow(0px 1px 2px rgba(0, 0, 0, 0.3));\n",
              "      fill: #FFFFFF;\n",
              "    }\n",
              "  </style>\n",
              "\n",
              "      <script>\n",
              "        const buttonEl =\n",
              "          document.querySelector('#df-473e2135-4d56-4245-86ee-e2bddd074c6f button.colab-df-convert');\n",
              "        buttonEl.style.display =\n",
              "          google.colab.kernel.accessAllowed ? 'block' : 'none';\n",
              "\n",
              "        async function convertToInteractive(key) {\n",
              "          const element = document.querySelector('#df-473e2135-4d56-4245-86ee-e2bddd074c6f');\n",
              "          const dataTable =\n",
              "            await google.colab.kernel.invokeFunction('convertToInteractive',\n",
              "                                                     [key], {});\n",
              "          if (!dataTable) return;\n",
              "\n",
              "          const docLinkHtml = 'Like what you see? Visit the ' +\n",
              "            '<a target=\"_blank\" href=https://colab.research.google.com/notebooks/data_table.ipynb>data table notebook</a>'\n",
              "            + ' to learn more about interactive tables.';\n",
              "          element.innerHTML = '';\n",
              "          dataTable['output_type'] = 'display_data';\n",
              "          await google.colab.output.renderOutput(dataTable, element);\n",
              "          const docLink = document.createElement('div');\n",
              "          docLink.innerHTML = docLinkHtml;\n",
              "          element.appendChild(docLink);\n",
              "        }\n",
              "      </script>\n",
              "    </div>\n",
              "  </div>\n",
              "  "
            ]
          },
          "metadata": {},
          "execution_count": 103
        }
      ]
    },
    {
      "cell_type": "code",
      "source": [
        "print(\"Maximum precipitation was recorded on \",data.sort_values(by='Data.Precipitation',ascending=False).iloc[0]['Date.Full'])  \n",
        "print(\"Maximum precipitation was recorded at \",data.sort_values(by='Data.Precipitation',ascending=False).iloc[0]['Station.Location'])\n",
        "print(\"Minimum precipitation was recorded on \",data.sort_values(by='Data.Precipitation',ascending=True).iloc[0]['Date.Full'])  \n",
        "print(\"Minimum precipitation was recorded at \",data.sort_values(by='Data.Precipitation',ascending=True).iloc[0]['Station.Location'])\n",
        "print('\\n')\n",
        "print(\"Maximum temperature was recorded on \",data.sort_values(by='Data.Temperature.Max Temp',ascending=False).iloc[0]['Date.Full'])  \n",
        "print(\"Maximum temperature was recorded at \",data.sort_values(by='Data.Temperature.Max Temp',ascending=False).iloc[0]['Station.Location'])\n",
        "print(\"Minimum temperature was recorded on \",data.sort_values(by='Data.Temperature.Min Temp',ascending=True).iloc[0]['Date.Full'])  \n",
        "print(\"Minimum temeprature was recorded at \",data.sort_values(by='Data.Temperature.Min Temp',ascending=True).iloc[0]['Station.Location'])\n",
        "print('\\n')\n",
        "print(\"Maximum wind speed was recorded on \",data.sort_values(by='Data.Wind.Speed',ascending=False).iloc[0]['Date.Full'])  \n",
        "print(\"Maximum wind speed was recorded at \",data.sort_values(by='Data.Wind.Speed',ascending=False).iloc[0]['Station.Location'])\n",
        "print(\"Minimum wind speed was recorded on \",data.sort_values(by='Data.Wind.Speed',ascending=True).iloc[0]['Date.Full'])  \n",
        "print(\"Minimum wind speed was recorded at \",data.sort_values(by='Data.Wind.Speed',ascending=True).iloc[0]['Station.Location'])"
      ],
      "metadata": {
        "colab": {
          "base_uri": "https://localhost:8080/"
        },
        "id": "YDu7-Wxwpslt",
        "outputId": "372e32aa-c83a-48c9-fce7-f3b32875fdd2"
      },
      "execution_count": 104,
      "outputs": [
        {
          "output_type": "stream",
          "name": "stdout",
          "text": [
            "Maximum precipitation was recorded on  2016-08-14\n",
            "Maximum precipitation was recorded at  Baton Rouge, LA\n",
            "Minimum precipitation was recorded on  2016-01-03\n",
            "Minimum precipitation was recorded at  Birmingham, AL\n",
            "\n",
            "\n",
            "Maximum temperature was recorded on  2016-07-31\n",
            "Maximum temperature was recorded at  China Lake, CA\n",
            "Minimum temperature was recorded on  2016-12-04\n",
            "Minimum temeprature was recorded at  Bettles, AK\n",
            "\n",
            "\n",
            "Maximum wind speed was recorded on  2016-03-06\n",
            "Maximum wind speed was recorded at  Mt. Washington, NH\n",
            "Minimum wind speed was recorded on  2016-12-04\n",
            "Minimum wind speed was recorded at  Marquette, MI\n"
          ]
        }
      ]
    },
    {
      "cell_type": "code",
      "source": [
        "stations = pd.DataFrame(data.groupby('Station.Location')['Date.Full'].count().reset_index())   #counting number of recording stations at difference places\n",
        "stations.sort_values(by='Date.Full',ascending=False,inplace=True)\n",
        "stations.head(5)"
      ],
      "metadata": {
        "colab": {
          "base_uri": "https://localhost:8080/",
          "height": 206
        },
        "id": "ijwDF2_frqID",
        "outputId": "e794b5ce-cd1f-43bf-cde5-5be9c2a0e48d"
      },
      "execution_count": 105,
      "outputs": [
        {
          "output_type": "execute_result",
          "data": {
            "text/plain": [
              "    Station.Location  Date.Full\n",
              "0       Aberdeen, SD         53\n",
              "206      Norfolk, VA         53\n",
              "214      Orlando, FL         53\n",
              "213        Omaha, NE         53\n",
              "212      Olympia, WA         53"
            ],
            "text/html": [
              "\n",
              "  <div id=\"df-5caed8f2-220a-4951-9d53-183273d1c28e\">\n",
              "    <div class=\"colab-df-container\">\n",
              "      <div>\n",
              "<style scoped>\n",
              "    .dataframe tbody tr th:only-of-type {\n",
              "        vertical-align: middle;\n",
              "    }\n",
              "\n",
              "    .dataframe tbody tr th {\n",
              "        vertical-align: top;\n",
              "    }\n",
              "\n",
              "    .dataframe thead th {\n",
              "        text-align: right;\n",
              "    }\n",
              "</style>\n",
              "<table border=\"1\" class=\"dataframe\">\n",
              "  <thead>\n",
              "    <tr style=\"text-align: right;\">\n",
              "      <th></th>\n",
              "      <th>Station.Location</th>\n",
              "      <th>Date.Full</th>\n",
              "    </tr>\n",
              "  </thead>\n",
              "  <tbody>\n",
              "    <tr>\n",
              "      <th>0</th>\n",
              "      <td>Aberdeen, SD</td>\n",
              "      <td>53</td>\n",
              "    </tr>\n",
              "    <tr>\n",
              "      <th>206</th>\n",
              "      <td>Norfolk, VA</td>\n",
              "      <td>53</td>\n",
              "    </tr>\n",
              "    <tr>\n",
              "      <th>214</th>\n",
              "      <td>Orlando, FL</td>\n",
              "      <td>53</td>\n",
              "    </tr>\n",
              "    <tr>\n",
              "      <th>213</th>\n",
              "      <td>Omaha, NE</td>\n",
              "      <td>53</td>\n",
              "    </tr>\n",
              "    <tr>\n",
              "      <th>212</th>\n",
              "      <td>Olympia, WA</td>\n",
              "      <td>53</td>\n",
              "    </tr>\n",
              "  </tbody>\n",
              "</table>\n",
              "</div>\n",
              "      <button class=\"colab-df-convert\" onclick=\"convertToInteractive('df-5caed8f2-220a-4951-9d53-183273d1c28e')\"\n",
              "              title=\"Convert this dataframe to an interactive table.\"\n",
              "              style=\"display:none;\">\n",
              "        \n",
              "  <svg xmlns=\"http://www.w3.org/2000/svg\" height=\"24px\"viewBox=\"0 0 24 24\"\n",
              "       width=\"24px\">\n",
              "    <path d=\"M0 0h24v24H0V0z\" fill=\"none\"/>\n",
              "    <path d=\"M18.56 5.44l.94 2.06.94-2.06 2.06-.94-2.06-.94-.94-2.06-.94 2.06-2.06.94zm-11 1L8.5 8.5l.94-2.06 2.06-.94-2.06-.94L8.5 2.5l-.94 2.06-2.06.94zm10 10l.94 2.06.94-2.06 2.06-.94-2.06-.94-.94-2.06-.94 2.06-2.06.94z\"/><path d=\"M17.41 7.96l-1.37-1.37c-.4-.4-.92-.59-1.43-.59-.52 0-1.04.2-1.43.59L10.3 9.45l-7.72 7.72c-.78.78-.78 2.05 0 2.83L4 21.41c.39.39.9.59 1.41.59.51 0 1.02-.2 1.41-.59l7.78-7.78 2.81-2.81c.8-.78.8-2.07 0-2.86zM5.41 20L4 18.59l7.72-7.72 1.47 1.35L5.41 20z\"/>\n",
              "  </svg>\n",
              "      </button>\n",
              "      \n",
              "  <style>\n",
              "    .colab-df-container {\n",
              "      display:flex;\n",
              "      flex-wrap:wrap;\n",
              "      gap: 12px;\n",
              "    }\n",
              "\n",
              "    .colab-df-convert {\n",
              "      background-color: #E8F0FE;\n",
              "      border: none;\n",
              "      border-radius: 50%;\n",
              "      cursor: pointer;\n",
              "      display: none;\n",
              "      fill: #1967D2;\n",
              "      height: 32px;\n",
              "      padding: 0 0 0 0;\n",
              "      width: 32px;\n",
              "    }\n",
              "\n",
              "    .colab-df-convert:hover {\n",
              "      background-color: #E2EBFA;\n",
              "      box-shadow: 0px 1px 2px rgba(60, 64, 67, 0.3), 0px 1px 3px 1px rgba(60, 64, 67, 0.15);\n",
              "      fill: #174EA6;\n",
              "    }\n",
              "\n",
              "    [theme=dark] .colab-df-convert {\n",
              "      background-color: #3B4455;\n",
              "      fill: #D2E3FC;\n",
              "    }\n",
              "\n",
              "    [theme=dark] .colab-df-convert:hover {\n",
              "      background-color: #434B5C;\n",
              "      box-shadow: 0px 1px 3px 1px rgba(0, 0, 0, 0.15);\n",
              "      filter: drop-shadow(0px 1px 2px rgba(0, 0, 0, 0.3));\n",
              "      fill: #FFFFFF;\n",
              "    }\n",
              "  </style>\n",
              "\n",
              "      <script>\n",
              "        const buttonEl =\n",
              "          document.querySelector('#df-5caed8f2-220a-4951-9d53-183273d1c28e button.colab-df-convert');\n",
              "        buttonEl.style.display =\n",
              "          google.colab.kernel.accessAllowed ? 'block' : 'none';\n",
              "\n",
              "        async function convertToInteractive(key) {\n",
              "          const element = document.querySelector('#df-5caed8f2-220a-4951-9d53-183273d1c28e');\n",
              "          const dataTable =\n",
              "            await google.colab.kernel.invokeFunction('convertToInteractive',\n",
              "                                                     [key], {});\n",
              "          if (!dataTable) return;\n",
              "\n",
              "          const docLinkHtml = 'Like what you see? Visit the ' +\n",
              "            '<a target=\"_blank\" href=https://colab.research.google.com/notebooks/data_table.ipynb>data table notebook</a>'\n",
              "            + ' to learn more about interactive tables.';\n",
              "          element.innerHTML = '';\n",
              "          dataTable['output_type'] = 'display_data';\n",
              "          await google.colab.output.renderOutput(dataTable, element);\n",
              "          const docLink = document.createElement('div');\n",
              "          docLink.innerHTML = docLinkHtml;\n",
              "          element.appendChild(docLink);\n",
              "        }\n",
              "      </script>\n",
              "    </div>\n",
              "  </div>\n",
              "  "
            ]
          },
          "metadata": {},
          "execution_count": 105
        }
      ]
    },
    {
      "cell_type": "code",
      "source": [
        "print(stations.iloc[0]['Station.Location']) #place with maximum number of recording stations"
      ],
      "metadata": {
        "colab": {
          "base_uri": "https://localhost:8080/"
        },
        "id": "On4oJ7wFsv8g",
        "outputId": "70fc7886-e7b4-4b5d-ad47-f742800877ac"
      },
      "execution_count": 106,
      "outputs": [
        {
          "output_type": "stream",
          "name": "stdout",
          "text": [
            "Aberdeen, SD\n"
          ]
        }
      ]
    },
    {
      "cell_type": "code",
      "source": [
        "print(stations.tail(1)['Station.Location']) #place with minimum number of recording stations"
      ],
      "metadata": {
        "colab": {
          "base_uri": "https://localhost:8080/"
        },
        "id": "8XEDDJ81uW-_",
        "outputId": "5da55dea-c65d-4dd0-c29b-382f191afe4c"
      },
      "execution_count": 107,
      "outputs": [
        {
          "output_type": "stream",
          "name": "stdout",
          "text": [
            "293    Unalakleet, AK\n",
            "Name: Station.Location, dtype: object\n"
          ]
        }
      ]
    },
    {
      "cell_type": "code",
      "source": [
        "stations=data.pivot_table(index='Station.State',values='Date.Full',aggfunc= 'count').sort_values(by='Date.Full',ascending=False).reset_index()\n",
        "print('The state receiving most number of daily weather reports is',stations.iloc[0]['Station.State'])"
      ],
      "metadata": {
        "colab": {
          "base_uri": "https://localhost:8080/"
        },
        "id": "56iFTBnoqScE",
        "outputId": "d6ee1119-5852-4544-fd8e-9881896cd2a9"
      },
      "execution_count": 108,
      "outputs": [
        {
          "output_type": "stream",
          "name": "stdout",
          "text": [
            "The state receiving most number of daily weather reports is Alaska\n"
          ]
        }
      ]
    },
    {
      "cell_type": "code",
      "source": [
        "# finding out windiest recording stations\n",
        "\n",
        "median_speed=data['Data.Wind.Speed'].median()\n",
        "print('The cities where wind speed is more than the median wind speed are ','\\n',pd.Series(data[data['Data.Wind.Direction']>median_speed]['Station.Location'].unique()).str.split(',',expand=True)[0].values)"
      ],
      "metadata": {
        "colab": {
          "base_uri": "https://localhost:8080/"
        },
        "id": "-vP4Gw2LuWNh",
        "outputId": "8e998c87-df38-420f-b044-565ba866471d"
      },
      "execution_count": 109,
      "outputs": [
        {
          "output_type": "stream",
          "name": "stdout",
          "text": [
            "The cities where wind speed is more than the median wind speed are  \n",
            " ['Birmingham' 'Huntsville' 'Mobile' 'Montgomery' 'Anchorage' 'Annette'\n",
            " 'Bethel' 'Cold Bay' 'Cordova' 'Delta Junction/Ft Greely' 'Gulkana'\n",
            " 'Homer' 'Iliamna' 'Juneau' 'Kenai' 'Ketchikan' 'King Salmon' 'Kodiak'\n",
            " 'Kotzebue' 'Mc Grath' 'Nome' 'Northway' 'Palmer' 'Petersburg' 'Sitka'\n",
            " 'Skagway' 'St Paul Island' 'Tanana' 'Utqiagvik (Barrow)' 'Yakutat'\n",
            " 'Douglas Bisbee' 'Phoenix' 'Tucson' 'Winslow' 'Fort Smith' 'Harrison'\n",
            " 'Bakersfield' 'Bishop' 'China Lake' 'Concord' 'Fresno' 'Hayward'\n",
            " 'Long Beach' 'Los Angeles' 'Red Bluff' 'Redding' 'Sacramento' 'Salinas'\n",
            " 'San Diego' 'San Francisco' 'Sandberg' 'Santa Barbara' 'Santa Maria'\n",
            " 'Stockton' 'Alamosa' 'Colorado Springs' 'Craig' 'Denver' 'Grand Junction'\n",
            " 'Pueblo' 'Bridgeport' 'Windsor Locks' 'Newark' 'Wilmington'\n",
            " 'Daytona Beach' 'Fort Lauderdale' 'Gainesville' 'Jacksonville' 'Key West'\n",
            " 'Miami' 'Orlando' 'Pensacola' 'Tallahassee' 'Tampa' 'Vero Beach'\n",
            " 'West Palm Beach' 'Alma' 'Athens' 'Atlanta' 'Augusta' 'Macon' 'Savannah'\n",
            " 'Hilo' 'Honolulu' 'Kaunakakai' 'Lihue' 'Boise' 'Lewiston' 'Chicago'\n",
            " 'Moline' 'Peoria' 'Quincy' 'Rockford' 'Springfield' 'Evansville'\n",
            " 'Fort Wayne' 'Indianapolis' 'South Bend' 'Cedar Rapids' 'Des Moines'\n",
            " 'Dubuque' 'Sioux City' 'Waterloo' 'Concordia' 'Dodge City' 'Goodland'\n",
            " 'Medicine Lodge' 'Topeka' 'Wichita' 'Covington' 'Jackson' 'Lexington'\n",
            " 'Louisville' 'Paducah' 'Baton Rouge' 'Lake Charles' 'New Orleans'\n",
            " 'Shreveport' 'Slidell' 'Bangor' 'Caribou' 'Portland' 'Baltimore'\n",
            " 'Salisbury' 'Boston' 'Milton' 'Worcester' 'Alpena' 'Detroit' 'Flint'\n",
            " 'Grand Rapids' 'Houghton Lake' 'Lansing' 'Muskegon' 'Sault Ste Marie'\n",
            " 'Duluth' 'International Falls' 'Minneapolis' 'Rochester' 'St Cloud'\n",
            " 'Greenville' 'Greenwood' 'Gulfport' 'Hattiesburg' 'Jackson' 'Meridian'\n",
            " 'Tupelo' 'Cape Girardeau' 'Columbia' 'Kansas City' 'Rolla/Vichy'\n",
            " 'Springfield' 'St Joseph' 'St Louis' 'Billings' 'Butte' 'Cut Bank'\n",
            " 'Dillon' 'Glasgow' 'Great Falls' 'Havre' 'Helena' 'Kalispell'\n",
            " 'Miles City' 'Missoula' 'Grand Island' 'Lincoln' 'Norfolk' 'North Platte'\n",
            " 'Omaha' 'Scottsbluff' 'Sidney' 'Valentine' 'Ely' 'Eureka' 'Las Vegas'\n",
            " 'Mercury' 'Reno' 'Winnemucca' 'Concord' 'Mt. Washington' 'Atlantic City'\n",
            " 'Newark' 'Albuquerque' 'Clayton' 'Roswell' 'Albany' 'Binghamton'\n",
            " 'Buffalo' 'Glens Falls' 'Islip' 'New York' 'Rochester' 'Syracuse'\n",
            " 'Asheville' 'Cape Hatteras' 'Charlotte' 'Greensboro' 'Hickory'\n",
            " 'Raleigh/Durham' 'Wilmington' 'Bismarck' 'Dickinson' 'Fargo'\n",
            " 'Grand Forks' 'Williston' 'Akron' 'Cleveland' 'Columbus' 'Dayton'\n",
            " 'Mansfield' 'Toledo' 'Youngstown/Warren' 'Gage' 'Oklahoma City'\n",
            " 'Ponca City' 'Tulsa' 'Astoria' 'Burns' 'Medford' 'Pendleton' 'Portland'\n",
            " 'Redmond' 'Salem' 'Allentown' 'Erie' 'Harrisburg' 'Philadelphia'\n",
            " 'Pittsburgh' 'Wilkes-Barre/Scranton' 'Williamsport' 'San Juan'\n",
            " 'Providence' 'Anderson' 'Charleston' 'Columbia' 'Greer' 'Aberdeen'\n",
            " 'Huron' 'Pierre' 'Rapid City' 'Sioux Falls' 'Bristol/Jhnsn Cty/Kngsprt'\n",
            " 'Chattanooga' 'Clarksville' 'Crossville' 'Knoxville' 'Memphis'\n",
            " 'Nashville' 'Oak Ridge' 'Abilene' 'Amarillo' 'Austin/Bergstrom'\n",
            " 'Austin/City' 'Beaumont/Port Arthur' 'Brownsville' 'Childress'\n",
            " 'College Station' 'Corpus Christi' 'Dalhart' 'Dallas' 'Dallas-Fort Worth'\n",
            " 'Del Rio' 'Fort Worth' 'Galveston' 'Houston' 'Lubbock' 'Midland'\n",
            " 'San Angelo' 'San Antonio' 'Victoria' 'Waco' 'Wichita Falls'\n",
            " 'Salt Lake City' 'Blacksburg' 'Burlington' 'Lynchburg' 'Norfolk'\n",
            " 'Richmond' 'Roanoke' 'Wallops Island' 'Washington' 'Deer Park' 'Ephrata'\n",
            " 'Olympia' 'Quillayute' 'Seattle' 'Yakima' 'Beckley' 'Charleston' 'Elkins'\n",
            " 'Huntington' 'Green Bay' 'La Crosse' 'Madison' 'Milwaukee' 'Casper'\n",
            " 'Cheyenne' 'Lander' 'Rawlins' 'Sheridan' 'Bettles' 'Fairbanks' 'Shemya'\n",
            " 'Talkeetna' 'Kingman' 'Kahului' 'Pocatello' 'Eugene' 'El Paso' 'Spokane'\n",
            " 'Gustavus' 'Wrangell' 'Unalakleet']\n"
          ]
        }
      ]
    },
    {
      "cell_type": "code",
      "source": [
        "data['Data.Wind.Direction'].describe()  #exploring wind speed statistics"
      ],
      "metadata": {
        "colab": {
          "base_uri": "https://localhost:8080/"
        },
        "id": "-_QJCLe6ywuz",
        "outputId": "07488f28-c2aa-4ebe-a6cb-fc8f5b5d1363"
      },
      "execution_count": 110,
      "outputs": [
        {
          "output_type": "execute_result",
          "data": {
            "text/plain": [
              "count    16743.000000\n",
              "mean        18.791316\n",
              "std          6.461527\n",
              "min          0.000000\n",
              "25%         15.000000\n",
              "50%         19.000000\n",
              "75%         23.000000\n",
              "max         36.000000\n",
              "Name: Data.Wind.Direction, dtype: float64"
            ]
          },
          "metadata": {},
          "execution_count": 110
        }
      ]
    },
    {
      "cell_type": "markdown",
      "source": [
        "At most stations, wind blows at 19 degrees "
      ],
      "metadata": {
        "id": "7uCk3E-SzqyM"
      }
    }
  ]
}